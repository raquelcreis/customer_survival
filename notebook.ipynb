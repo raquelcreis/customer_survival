{
 "cells": [
  {
   "cell_type": "markdown",
   "metadata": {},
   "source": [
    "# Customer Survival - Churn Prediction"
   ]
  },
  {
   "cell_type": "markdown",
   "metadata": {},
   "source": [
    "***\n",
    "\n",
    "> Churn rate is an essential metric to provides clarity on how well the business is retaining customers. An explicit customer churn represents the rate at which your customers are cancelling their subscriptions. On the other hand, the most common situation in retail selling is an implicit churn. This happens when the churner simply stops using the platform/business. "
   ]
  },
  {
   "cell_type": "markdown",
   "metadata": {},
   "source": [
    "***\n",
    "\n",
    "> The purpose of this notebook is trying to predict users who will churn by checking previous historical data."
   ]
  },
  {
   "cell_type": "markdown",
   "metadata": {},
   "source": [
    "## Libs"
   ]
  },
  {
   "cell_type": "code",
   "execution_count": 1,
   "metadata": {},
   "outputs": [],
   "source": [
    "import pandas as pd\n",
    "import numpy as np\n",
    "import matplotlib.pyplot as plt\n",
    "import seaborn as sns\n",
    "import datetime"
   ]
  },
  {
   "cell_type": "markdown",
   "metadata": {},
   "source": [
    "## Dataset"
   ]
  },
  {
   "cell_type": "code",
   "execution_count": 2,
   "metadata": {},
   "outputs": [
    {
     "data": {
      "text/html": [
       "<div>\n",
       "<style scoped>\n",
       "    .dataframe tbody tr th:only-of-type {\n",
       "        vertical-align: middle;\n",
       "    }\n",
       "\n",
       "    .dataframe tbody tr th {\n",
       "        vertical-align: top;\n",
       "    }\n",
       "\n",
       "    .dataframe thead th {\n",
       "        text-align: right;\n",
       "    }\n",
       "</style>\n",
       "<table border=\"1\" class=\"dataframe\">\n",
       "  <thead>\n",
       "    <tr style=\"text-align: right;\">\n",
       "      <th></th>\n",
       "      <th>uuid</th>\n",
       "      <th>date</th>\n",
       "      <th>event</th>\n",
       "    </tr>\n",
       "  </thead>\n",
       "  <tbody>\n",
       "    <tr>\n",
       "      <th>0</th>\n",
       "      <td>00038504-c286-4c49-a6ed-d7853f65f7d6</td>\n",
       "      <td>2019-02-07</td>\n",
       "      <td>small_purchase</td>\n",
       "    </tr>\n",
       "    <tr>\n",
       "      <th>1</th>\n",
       "      <td>00038504-c286-4c49-a6ed-d7853f65f7d6</td>\n",
       "      <td>2019-02-20</td>\n",
       "      <td>small_purchase</td>\n",
       "    </tr>\n",
       "    <tr>\n",
       "      <th>2</th>\n",
       "      <td>00038504-c286-4c49-a6ed-d7853f65f7d6</td>\n",
       "      <td>2019-04-12</td>\n",
       "      <td>contact</td>\n",
       "    </tr>\n",
       "    <tr>\n",
       "      <th>3</th>\n",
       "      <td>00038504-c286-4c49-a6ed-d7853f65f7d6</td>\n",
       "      <td>2019-04-19</td>\n",
       "      <td>contact</td>\n",
       "    </tr>\n",
       "    <tr>\n",
       "      <th>4</th>\n",
       "      <td>00038504-c286-4c49-a6ed-d7853f65f7d6</td>\n",
       "      <td>2019-04-30</td>\n",
       "      <td>contact</td>\n",
       "    </tr>\n",
       "    <tr>\n",
       "      <th>5</th>\n",
       "      <td>00038504-c286-4c49-a6ed-d7853f65f7d6</td>\n",
       "      <td>2019-04-30</td>\n",
       "      <td>big_purchase</td>\n",
       "    </tr>\n",
       "    <tr>\n",
       "      <th>6</th>\n",
       "      <td>00038504-c286-4c49-a6ed-d7853f65f7d6</td>\n",
       "      <td>2019-05-16</td>\n",
       "      <td>small_purchase</td>\n",
       "    </tr>\n",
       "    <tr>\n",
       "      <th>7</th>\n",
       "      <td>00038504-c286-4c49-a6ed-d7853f65f7d6</td>\n",
       "      <td>2019-06-05</td>\n",
       "      <td>contact</td>\n",
       "    </tr>\n",
       "    <tr>\n",
       "      <th>8</th>\n",
       "      <td>00038504-c286-4c49-a6ed-d7853f65f7d6</td>\n",
       "      <td>2019-06-14</td>\n",
       "      <td>contact</td>\n",
       "    </tr>\n",
       "    <tr>\n",
       "      <th>9</th>\n",
       "      <td>00038504-c286-4c49-a6ed-d7853f65f7d6</td>\n",
       "      <td>2019-07-11</td>\n",
       "      <td>contact</td>\n",
       "    </tr>\n",
       "    <tr>\n",
       "      <th>10</th>\n",
       "      <td>00038504-c286-4c49-a6ed-d7853f65f7d6</td>\n",
       "      <td>2019-07-12</td>\n",
       "      <td>contact</td>\n",
       "    </tr>\n",
       "    <tr>\n",
       "      <th>11</th>\n",
       "      <td>0012c23d-379a-43fb-a91b-6f95c5358f52</td>\n",
       "      <td>2019-09-23</td>\n",
       "      <td>contact</td>\n",
       "    </tr>\n",
       "    <tr>\n",
       "      <th>12</th>\n",
       "      <td>0012c23d-379a-43fb-a91b-6f95c5358f52</td>\n",
       "      <td>2019-10-06</td>\n",
       "      <td>contact</td>\n",
       "    </tr>\n",
       "    <tr>\n",
       "      <th>13</th>\n",
       "      <td>0012c23d-379a-43fb-a91b-6f95c5358f52</td>\n",
       "      <td>2019-11-01</td>\n",
       "      <td>big_purchase</td>\n",
       "    </tr>\n",
       "    <tr>\n",
       "      <th>14</th>\n",
       "      <td>0012c23d-379a-43fb-a91b-6f95c5358f52</td>\n",
       "      <td>2019-11-19</td>\n",
       "      <td>small_purchase</td>\n",
       "    </tr>\n",
       "    <tr>\n",
       "      <th>15</th>\n",
       "      <td>0012c23d-379a-43fb-a91b-6f95c5358f52</td>\n",
       "      <td>2019-12-18</td>\n",
       "      <td>contact</td>\n",
       "    </tr>\n",
       "    <tr>\n",
       "      <th>16</th>\n",
       "      <td>0012c23d-379a-43fb-a91b-6f95c5358f52</td>\n",
       "      <td>2019-12-22</td>\n",
       "      <td>small_purchase</td>\n",
       "    </tr>\n",
       "    <tr>\n",
       "      <th>17</th>\n",
       "      <td>0012c23d-379a-43fb-a91b-6f95c5358f52</td>\n",
       "      <td>2019-12-26</td>\n",
       "      <td>contact</td>\n",
       "    </tr>\n",
       "    <tr>\n",
       "      <th>18</th>\n",
       "      <td>0012c23d-379a-43fb-a91b-6f95c5358f52</td>\n",
       "      <td>2019-12-28</td>\n",
       "      <td>big_purchase</td>\n",
       "    </tr>\n",
       "    <tr>\n",
       "      <th>19</th>\n",
       "      <td>0012c23d-379a-43fb-a91b-6f95c5358f52</td>\n",
       "      <td>2020-01-05</td>\n",
       "      <td>contact</td>\n",
       "    </tr>\n",
       "  </tbody>\n",
       "</table>\n",
       "</div>"
      ],
      "text/plain": [
       "                                    uuid        date           event\n",
       "0   00038504-c286-4c49-a6ed-d7853f65f7d6  2019-02-07  small_purchase\n",
       "1   00038504-c286-4c49-a6ed-d7853f65f7d6  2019-02-20  small_purchase\n",
       "2   00038504-c286-4c49-a6ed-d7853f65f7d6  2019-04-12         contact\n",
       "3   00038504-c286-4c49-a6ed-d7853f65f7d6  2019-04-19         contact\n",
       "4   00038504-c286-4c49-a6ed-d7853f65f7d6  2019-04-30         contact\n",
       "5   00038504-c286-4c49-a6ed-d7853f65f7d6  2019-04-30    big_purchase\n",
       "6   00038504-c286-4c49-a6ed-d7853f65f7d6  2019-05-16  small_purchase\n",
       "7   00038504-c286-4c49-a6ed-d7853f65f7d6  2019-06-05         contact\n",
       "8   00038504-c286-4c49-a6ed-d7853f65f7d6  2019-06-14         contact\n",
       "9   00038504-c286-4c49-a6ed-d7853f65f7d6  2019-07-11         contact\n",
       "10  00038504-c286-4c49-a6ed-d7853f65f7d6  2019-07-12         contact\n",
       "11  0012c23d-379a-43fb-a91b-6f95c5358f52  2019-09-23         contact\n",
       "12  0012c23d-379a-43fb-a91b-6f95c5358f52  2019-10-06         contact\n",
       "13  0012c23d-379a-43fb-a91b-6f95c5358f52  2019-11-01    big_purchase\n",
       "14  0012c23d-379a-43fb-a91b-6f95c5358f52  2019-11-19  small_purchase\n",
       "15  0012c23d-379a-43fb-a91b-6f95c5358f52  2019-12-18         contact\n",
       "16  0012c23d-379a-43fb-a91b-6f95c5358f52  2019-12-22  small_purchase\n",
       "17  0012c23d-379a-43fb-a91b-6f95c5358f52  2019-12-26         contact\n",
       "18  0012c23d-379a-43fb-a91b-6f95c5358f52  2019-12-28    big_purchase\n",
       "19  0012c23d-379a-43fb-a91b-6f95c5358f52  2020-01-05         contact"
      ]
     },
     "execution_count": 2,
     "metadata": {},
     "output_type": "execute_result"
    }
   ],
   "source": [
    "df = pd.read_csv('churn_data.csv')\n",
    "df.head(20)"
   ]
  },
  {
   "cell_type": "code",
   "execution_count": 3,
   "metadata": {},
   "outputs": [
    {
     "name": "stdout",
     "output_type": "stream",
     "text": [
      "<class 'pandas.core.frame.DataFrame'>\n",
      "RangeIndex: 104103 entries, 0 to 104102\n",
      "Data columns (total 3 columns):\n",
      " #   Column  Non-Null Count   Dtype \n",
      "---  ------  --------------   ----- \n",
      " 0   uuid    104103 non-null  object\n",
      " 1   date    104103 non-null  object\n",
      " 2   event   104103 non-null  object\n",
      "dtypes: object(3)\n",
      "memory usage: 2.4+ MB\n"
     ]
    }
   ],
   "source": [
    "df.info()"
   ]
  },
  {
   "cell_type": "markdown",
   "metadata": {},
   "source": [
    "## EDA"
   ]
  },
  {
   "cell_type": "code",
   "execution_count": 4,
   "metadata": {},
   "outputs": [
    {
     "name": "stdout",
     "output_type": "stream",
     "text": [
      "Number of Events:  104103\n",
      "Number of Unique Users:  1034\n",
      "Type of Events:  ['small_purchase', 'contact', 'big_purchase']\n"
     ]
    }
   ],
   "source": [
    "print(\"Number of Events: \",df.shape[0])\n",
    "print(\"Number of Unique Users: \",df.uuid.nunique())\n",
    "print(\"Type of Events: \", df.event.unique()[0:3].tolist())"
   ]
  },
  {
   "cell_type": "code",
   "execution_count": 5,
   "metadata": {},
   "outputs": [],
   "source": [
    "# column date to datetime instead object\n",
    "# extract more info from date\n",
    "df['date'] = pd.to_datetime(df['date'])\n",
    "df['monthYear'] = pd.to_datetime(df['date'],format='%Y-%m-%d').dt.to_period('M')\n",
    "df['month'] = pd.to_datetime(df['date'],format='%Y-%m-%d').dt.month\n",
    "df['year'] = pd.to_datetime(df['date'],format='%Y-%m-%d').dt.year\n",
    "df['week'] = pd.to_datetime(df['date'],format='%Y-%m-%d').dt.week"
   ]
  },
  {
   "cell_type": "code",
   "execution_count": 6,
   "metadata": {},
   "outputs": [
    {
     "data": {
      "image/png": "[encoded data removed]",
      "text/plain": [
       "<Figure size 1440x288 with 1 Axes>"
      ]
     },
     "metadata": {
      "needs_background": "light"
     },
     "output_type": "display_data"
    }
   ],
   "source": [
    "plt.figure(figsize=(20,4))\n",
    "ax = sns.countplot(data=df.sort_values(by='monthYear',ascending=True),x=\"monthYear\", \n",
    "                   hue=\"event\",hue_order=['big_purchase','small_purchase','contact']\n",
    "                   ,palette=\"flare\")\n",
    "sns.set(style=\"whitegrid\")\n",
    "plt.xlabel('Month-Year')\n",
    "plt.ylabel('Count')\n",
    "plt.title('Events 2019-2020')\n",
    "plt.show()"
   ]
  },
  {
   "cell_type": "markdown",
   "metadata": {},
   "source": [
    "## Interval Between Events / Cut Off Date"
   ]
  },
  {
   "cell_type": "code",
   "execution_count": 7,
   "metadata": {},
   "outputs": [],
   "source": [
    "df['interval'] = df.groupby('uuid')['date'].diff().apply(lambda x: x.days)"
   ]
  },
  {
   "cell_type": "code",
   "execution_count": 8,
   "metadata": {},
   "outputs": [
    {
     "data": {
      "image/png": "[encoded data removed]",
      "text/plain": [
       "<Figure size 432x288 with 1 Axes>"
      ]
     },
     "metadata": {},
     "output_type": "display_data"
    }
   ],
   "source": [
    "ax = sns.violinplot(data=df, x='interval',palette='flare')\n",
    "plt.xlabel('Interval Between Events')\n",
    "plt.title('Interval Between Events')\n",
    "plt.show()"
   ]
  },
  {
   "cell_type": "markdown",
   "metadata": {},
   "source": [
    "Calculating the optimal cut off date for determine customers that churned"
   ]
  },
  {
   "cell_type": "code",
   "execution_count": 9,
   "metadata": {},
   "outputs": [],
   "source": [
    "def calcChurnFP(interval):\n",
    "    falsePositive = df[df.interval > interval]['uuid'].nunique()\n",
    "    return print(\"False Positive:\",falsePositive)\n",
    "\n",
    "def calcChurnFPPerc(interval):\n",
    "    falsePositive = df[df.interval > interval]['uuid'].nunique()\n",
    "    numberUsers = df.uuid.nunique()\n",
    "    return print(\"Percentage:\",round((falsePositive/numberUsers)*100,2))"
   ]
  },
  {
   "cell_type": "code",
   "execution_count": 10,
   "metadata": {},
   "outputs": [
    {
     "name": "stdout",
     "output_type": "stream",
     "text": [
      "Interval: 60  days\n",
      "False Positive: 40\n",
      "Percentage: 3.87\n",
      "-----------------------\n",
      "Interval: 65  days\n",
      "False Positive: 27\n",
      "Percentage: 2.61\n",
      "-----------------------\n",
      "Interval: 70  days\n",
      "False Positive: 21\n",
      "Percentage: 2.03\n",
      "-----------------------\n",
      "Interval: 75  days\n",
      "False Positive: 13\n",
      "Percentage: 1.26\n",
      "-----------------------\n",
      "Interval: 80  days\n",
      "False Positive: 8\n",
      "Percentage: 0.77\n",
      "-----------------------\n",
      "Interval: 85  days\n",
      "False Positive: 5\n",
      "Percentage: 0.48\n",
      "-----------------------\n",
      "Interval: 90  days\n",
      "False Positive: 3\n",
      "Percentage: 0.29\n",
      "-----------------------\n"
     ]
    }
   ],
   "source": [
    "#calculating FP depending of interval\n",
    "for i in range(60,95,5):\n",
    "    print(\"Interval:\",i,\" days\")\n",
    "    calcChurnFP(i)\n",
    "    calcChurnFPPerc(i)\n",
    "    print(\"-----------------------\")"
   ]
  },
  {
   "cell_type": "markdown",
   "metadata": {},
   "source": [
    "## Feature Engineering"
   ]
  },
  {
   "cell_type": "code",
   "execution_count": 11,
   "metadata": {},
   "outputs": [
    {
     "data": {
      "text/plain": [
       "contact           58406\n",
       "small_purchase    30741\n",
       "big_purchase      14956\n",
       "Name: event, dtype: int64"
      ]
     },
     "execution_count": 11,
     "metadata": {},
     "output_type": "execute_result"
    }
   ],
   "source": [
    "# categorical column\n",
    "df.event.value_counts()"
   ]
  },
  {
   "cell_type": "code",
   "execution_count": 12,
   "metadata": {},
   "outputs": [
    {
     "data": {
      "text/html": [
       "<div>\n",
       "<style scoped>\n",
       "    .dataframe tbody tr th:only-of-type {\n",
       "        vertical-align: middle;\n",
       "    }\n",
       "\n",
       "    .dataframe tbody tr th {\n",
       "        vertical-align: top;\n",
       "    }\n",
       "\n",
       "    .dataframe thead th {\n",
       "        text-align: right;\n",
       "    }\n",
       "</style>\n",
       "<table border=\"1\" class=\"dataframe\">\n",
       "  <thead>\n",
       "    <tr style=\"text-align: right;\">\n",
       "      <th></th>\n",
       "      <th>uuid</th>\n",
       "      <th>date</th>\n",
       "      <th>event</th>\n",
       "      <th>monthYear</th>\n",
       "      <th>month</th>\n",
       "      <th>year</th>\n",
       "      <th>week</th>\n",
       "      <th>interval</th>\n",
       "      <th>eventsClass</th>\n",
       "    </tr>\n",
       "  </thead>\n",
       "  <tbody>\n",
       "    <tr>\n",
       "      <th>0</th>\n",
       "      <td>00038504-c286-4c49-a6ed-d7853f65f7d6</td>\n",
       "      <td>2019-02-07</td>\n",
       "      <td>small_purchase</td>\n",
       "      <td>2019-02</td>\n",
       "      <td>2</td>\n",
       "      <td>2019</td>\n",
       "      <td>6</td>\n",
       "      <td>NaN</td>\n",
       "      <td>2</td>\n",
       "    </tr>\n",
       "    <tr>\n",
       "      <th>1</th>\n",
       "      <td>00038504-c286-4c49-a6ed-d7853f65f7d6</td>\n",
       "      <td>2019-02-20</td>\n",
       "      <td>small_purchase</td>\n",
       "      <td>2019-02</td>\n",
       "      <td>2</td>\n",
       "      <td>2019</td>\n",
       "      <td>8</td>\n",
       "      <td>13.0</td>\n",
       "      <td>2</td>\n",
       "    </tr>\n",
       "    <tr>\n",
       "      <th>2</th>\n",
       "      <td>00038504-c286-4c49-a6ed-d7853f65f7d6</td>\n",
       "      <td>2019-04-12</td>\n",
       "      <td>contact</td>\n",
       "      <td>2019-04</td>\n",
       "      <td>4</td>\n",
       "      <td>2019</td>\n",
       "      <td>15</td>\n",
       "      <td>51.0</td>\n",
       "      <td>1</td>\n",
       "    </tr>\n",
       "    <tr>\n",
       "      <th>3</th>\n",
       "      <td>00038504-c286-4c49-a6ed-d7853f65f7d6</td>\n",
       "      <td>2019-04-19</td>\n",
       "      <td>contact</td>\n",
       "      <td>2019-04</td>\n",
       "      <td>4</td>\n",
       "      <td>2019</td>\n",
       "      <td>16</td>\n",
       "      <td>7.0</td>\n",
       "      <td>1</td>\n",
       "    </tr>\n",
       "    <tr>\n",
       "      <th>4</th>\n",
       "      <td>00038504-c286-4c49-a6ed-d7853f65f7d6</td>\n",
       "      <td>2019-04-30</td>\n",
       "      <td>contact</td>\n",
       "      <td>2019-04</td>\n",
       "      <td>4</td>\n",
       "      <td>2019</td>\n",
       "      <td>18</td>\n",
       "      <td>11.0</td>\n",
       "      <td>1</td>\n",
       "    </tr>\n",
       "  </tbody>\n",
       "</table>\n",
       "</div>"
      ],
      "text/plain": [
       "                                   uuid       date           event monthYear  \\\n",
       "0  00038504-c286-4c49-a6ed-d7853f65f7d6 2019-02-07  small_purchase   2019-02   \n",
       "1  00038504-c286-4c49-a6ed-d7853f65f7d6 2019-02-20  small_purchase   2019-02   \n",
       "2  00038504-c286-4c49-a6ed-d7853f65f7d6 2019-04-12         contact   2019-04   \n",
       "3  00038504-c286-4c49-a6ed-d7853f65f7d6 2019-04-19         contact   2019-04   \n",
       "4  00038504-c286-4c49-a6ed-d7853f65f7d6 2019-04-30         contact   2019-04   \n",
       "\n",
       "   month  year  week  interval  eventsClass  \n",
       "0      2  2019     6       NaN            2  \n",
       "1      2  2019     8      13.0            2  \n",
       "2      4  2019    15      51.0            1  \n",
       "3      4  2019    16       7.0            1  \n",
       "4      4  2019    18      11.0            1  "
      ]
     },
     "execution_count": 12,
     "metadata": {},
     "output_type": "execute_result"
    }
   ],
   "source": [
    "# categorical to numeric\n",
    "eventsClass = {'contact': 1,'small_purchase': 2,'big_purchase': 3 }\n",
    "df['eventsClass'] = df.event.replace(eventsClass)\n",
    "df.head()"
   ]
  },
  {
   "cell_type": "code",
   "execution_count": 13,
   "metadata": {},
   "outputs": [
    {
     "data": {
      "text/html": [
       "<div>\n",
       "<style scoped>\n",
       "    .dataframe tbody tr th:only-of-type {\n",
       "        vertical-align: middle;\n",
       "    }\n",
       "\n",
       "    .dataframe tbody tr th {\n",
       "        vertical-align: top;\n",
       "    }\n",
       "\n",
       "    .dataframe thead th {\n",
       "        text-align: right;\n",
       "    }\n",
       "</style>\n",
       "<table border=\"1\" class=\"dataframe\">\n",
       "  <thead>\n",
       "    <tr style=\"text-align: right;\">\n",
       "      <th></th>\n",
       "      <th>uuid</th>\n",
       "      <th>date</th>\n",
       "      <th>event</th>\n",
       "      <th>monthYear</th>\n",
       "      <th>month</th>\n",
       "      <th>year</th>\n",
       "      <th>week</th>\n",
       "      <th>interval</th>\n",
       "      <th>eventsClass</th>\n",
       "      <th>eventNumber</th>\n",
       "    </tr>\n",
       "  </thead>\n",
       "  <tbody>\n",
       "    <tr>\n",
       "      <th>0</th>\n",
       "      <td>00038504-c286-4c49-a6ed-d7853f65f7d6</td>\n",
       "      <td>2019-02-07</td>\n",
       "      <td>small_purchase</td>\n",
       "      <td>2019-02</td>\n",
       "      <td>2</td>\n",
       "      <td>2019</td>\n",
       "      <td>6</td>\n",
       "      <td>NaN</td>\n",
       "      <td>2</td>\n",
       "      <td>0</td>\n",
       "    </tr>\n",
       "    <tr>\n",
       "      <th>1</th>\n",
       "      <td>00038504-c286-4c49-a6ed-d7853f65f7d6</td>\n",
       "      <td>2019-02-20</td>\n",
       "      <td>small_purchase</td>\n",
       "      <td>2019-02</td>\n",
       "      <td>2</td>\n",
       "      <td>2019</td>\n",
       "      <td>8</td>\n",
       "      <td>13.0</td>\n",
       "      <td>2</td>\n",
       "      <td>1</td>\n",
       "    </tr>\n",
       "    <tr>\n",
       "      <th>2</th>\n",
       "      <td>00038504-c286-4c49-a6ed-d7853f65f7d6</td>\n",
       "      <td>2019-04-12</td>\n",
       "      <td>contact</td>\n",
       "      <td>2019-04</td>\n",
       "      <td>4</td>\n",
       "      <td>2019</td>\n",
       "      <td>15</td>\n",
       "      <td>51.0</td>\n",
       "      <td>1</td>\n",
       "      <td>2</td>\n",
       "    </tr>\n",
       "    <tr>\n",
       "      <th>3</th>\n",
       "      <td>00038504-c286-4c49-a6ed-d7853f65f7d6</td>\n",
       "      <td>2019-04-19</td>\n",
       "      <td>contact</td>\n",
       "      <td>2019-04</td>\n",
       "      <td>4</td>\n",
       "      <td>2019</td>\n",
       "      <td>16</td>\n",
       "      <td>7.0</td>\n",
       "      <td>1</td>\n",
       "      <td>3</td>\n",
       "    </tr>\n",
       "    <tr>\n",
       "      <th>4</th>\n",
       "      <td>00038504-c286-4c49-a6ed-d7853f65f7d6</td>\n",
       "      <td>2019-04-30</td>\n",
       "      <td>contact</td>\n",
       "      <td>2019-04</td>\n",
       "      <td>4</td>\n",
       "      <td>2019</td>\n",
       "      <td>18</td>\n",
       "      <td>11.0</td>\n",
       "      <td>1</td>\n",
       "      <td>4</td>\n",
       "    </tr>\n",
       "  </tbody>\n",
       "</table>\n",
       "</div>"
      ],
      "text/plain": [
       "                                   uuid       date           event monthYear  \\\n",
       "0  00038504-c286-4c49-a6ed-d7853f65f7d6 2019-02-07  small_purchase   2019-02   \n",
       "1  00038504-c286-4c49-a6ed-d7853f65f7d6 2019-02-20  small_purchase   2019-02   \n",
       "2  00038504-c286-4c49-a6ed-d7853f65f7d6 2019-04-12         contact   2019-04   \n",
       "3  00038504-c286-4c49-a6ed-d7853f65f7d6 2019-04-19         contact   2019-04   \n",
       "4  00038504-c286-4c49-a6ed-d7853f65f7d6 2019-04-30         contact   2019-04   \n",
       "\n",
       "   month  year  week  interval  eventsClass  eventNumber  \n",
       "0      2  2019     6       NaN            2            0  \n",
       "1      2  2019     8      13.0            2            1  \n",
       "2      4  2019    15      51.0            1            2  \n",
       "3      4  2019    16       7.0            1            3  \n",
       "4      4  2019    18      11.0            1            4  "
      ]
     },
     "execution_count": 13,
     "metadata": {},
     "output_type": "execute_result"
    }
   ],
   "source": [
    "# count number of events\n",
    "df['eventNumber'] = df.groupby('uuid').cumcount()\n",
    "df.head()"
   ]
  },
  {
   "cell_type": "code",
   "execution_count": 14,
   "metadata": {},
   "outputs": [
    {
     "data": {
      "text/html": [
       "<div>\n",
       "<style scoped>\n",
       "    .dataframe tbody tr th:only-of-type {\n",
       "        vertical-align: middle;\n",
       "    }\n",
       "\n",
       "    .dataframe tbody tr th {\n",
       "        vertical-align: top;\n",
       "    }\n",
       "\n",
       "    .dataframe thead th {\n",
       "        text-align: right;\n",
       "    }\n",
       "</style>\n",
       "<table border=\"1\" class=\"dataframe\">\n",
       "  <thead>\n",
       "    <tr style=\"text-align: right;\">\n",
       "      <th></th>\n",
       "      <th>uuid</th>\n",
       "      <th>monthYear</th>\n",
       "      <th>numEventsMonth</th>\n",
       "    </tr>\n",
       "  </thead>\n",
       "  <tbody>\n",
       "    <tr>\n",
       "      <th>0</th>\n",
       "      <td>00038504-c286-4c49-a6ed-d7853f65f7d6</td>\n",
       "      <td>2019-02</td>\n",
       "      <td>2</td>\n",
       "    </tr>\n",
       "    <tr>\n",
       "      <th>1</th>\n",
       "      <td>00038504-c286-4c49-a6ed-d7853f65f7d6</td>\n",
       "      <td>2019-04</td>\n",
       "      <td>4</td>\n",
       "    </tr>\n",
       "    <tr>\n",
       "      <th>2</th>\n",
       "      <td>00038504-c286-4c49-a6ed-d7853f65f7d6</td>\n",
       "      <td>2019-05</td>\n",
       "      <td>1</td>\n",
       "    </tr>\n",
       "    <tr>\n",
       "      <th>3</th>\n",
       "      <td>00038504-c286-4c49-a6ed-d7853f65f7d6</td>\n",
       "      <td>2019-06</td>\n",
       "      <td>2</td>\n",
       "    </tr>\n",
       "    <tr>\n",
       "      <th>4</th>\n",
       "      <td>00038504-c286-4c49-a6ed-d7853f65f7d6</td>\n",
       "      <td>2019-07</td>\n",
       "      <td>2</td>\n",
       "    </tr>\n",
       "  </tbody>\n",
       "</table>\n",
       "</div>"
      ],
      "text/plain": [
       "                                   uuid monthYear  numEventsMonth\n",
       "0  00038504-c286-4c49-a6ed-d7853f65f7d6   2019-02               2\n",
       "1  00038504-c286-4c49-a6ed-d7853f65f7d6   2019-04               4\n",
       "2  00038504-c286-4c49-a6ed-d7853f65f7d6   2019-05               1\n",
       "3  00038504-c286-4c49-a6ed-d7853f65f7d6   2019-06               2\n",
       "4  00038504-c286-4c49-a6ed-d7853f65f7d6   2019-07               2"
      ]
     },
     "execution_count": 14,
     "metadata": {},
     "output_type": "execute_result"
    }
   ],
   "source": [
    "# count number of events by month\n",
    "eventsMonth = df.groupby(['uuid','monthYear']).size().reset_index(name='numEventsMonth')\n",
    "eventsMonth.head()"
   ]
  },
  {
   "cell_type": "code",
   "execution_count": 15,
   "metadata": {},
   "outputs": [
    {
     "data": {
      "text/html": [
       "<div>\n",
       "<style scoped>\n",
       "    .dataframe tbody tr th:only-of-type {\n",
       "        vertical-align: middle;\n",
       "    }\n",
       "\n",
       "    .dataframe tbody tr th {\n",
       "        vertical-align: top;\n",
       "    }\n",
       "\n",
       "    .dataframe thead th {\n",
       "        text-align: right;\n",
       "    }\n",
       "</style>\n",
       "<table border=\"1\" class=\"dataframe\">\n",
       "  <thead>\n",
       "    <tr style=\"text-align: right;\">\n",
       "      <th></th>\n",
       "      <th>uuid</th>\n",
       "      <th>date</th>\n",
       "      <th>event</th>\n",
       "      <th>monthYear</th>\n",
       "      <th>month</th>\n",
       "      <th>year</th>\n",
       "      <th>week</th>\n",
       "      <th>interval</th>\n",
       "      <th>eventsClass</th>\n",
       "      <th>eventNumber</th>\n",
       "      <th>numEventsMonth</th>\n",
       "    </tr>\n",
       "  </thead>\n",
       "  <tbody>\n",
       "    <tr>\n",
       "      <th>0</th>\n",
       "      <td>00038504-c286-4c49-a6ed-d7853f65f7d6</td>\n",
       "      <td>2019-02-07</td>\n",
       "      <td>small_purchase</td>\n",
       "      <td>2019-02</td>\n",
       "      <td>2</td>\n",
       "      <td>2019</td>\n",
       "      <td>6</td>\n",
       "      <td>NaN</td>\n",
       "      <td>2</td>\n",
       "      <td>0</td>\n",
       "      <td>2</td>\n",
       "    </tr>\n",
       "    <tr>\n",
       "      <th>1</th>\n",
       "      <td>00038504-c286-4c49-a6ed-d7853f65f7d6</td>\n",
       "      <td>2019-02-20</td>\n",
       "      <td>small_purchase</td>\n",
       "      <td>2019-02</td>\n",
       "      <td>2</td>\n",
       "      <td>2019</td>\n",
       "      <td>8</td>\n",
       "      <td>13.0</td>\n",
       "      <td>2</td>\n",
       "      <td>1</td>\n",
       "      <td>2</td>\n",
       "    </tr>\n",
       "    <tr>\n",
       "      <th>2</th>\n",
       "      <td>00038504-c286-4c49-a6ed-d7853f65f7d6</td>\n",
       "      <td>2019-04-12</td>\n",
       "      <td>contact</td>\n",
       "      <td>2019-04</td>\n",
       "      <td>4</td>\n",
       "      <td>2019</td>\n",
       "      <td>15</td>\n",
       "      <td>51.0</td>\n",
       "      <td>1</td>\n",
       "      <td>2</td>\n",
       "      <td>4</td>\n",
       "    </tr>\n",
       "    <tr>\n",
       "      <th>3</th>\n",
       "      <td>00038504-c286-4c49-a6ed-d7853f65f7d6</td>\n",
       "      <td>2019-04-19</td>\n",
       "      <td>contact</td>\n",
       "      <td>2019-04</td>\n",
       "      <td>4</td>\n",
       "      <td>2019</td>\n",
       "      <td>16</td>\n",
       "      <td>7.0</td>\n",
       "      <td>1</td>\n",
       "      <td>3</td>\n",
       "      <td>4</td>\n",
       "    </tr>\n",
       "    <tr>\n",
       "      <th>4</th>\n",
       "      <td>00038504-c286-4c49-a6ed-d7853f65f7d6</td>\n",
       "      <td>2019-04-30</td>\n",
       "      <td>contact</td>\n",
       "      <td>2019-04</td>\n",
       "      <td>4</td>\n",
       "      <td>2019</td>\n",
       "      <td>18</td>\n",
       "      <td>11.0</td>\n",
       "      <td>1</td>\n",
       "      <td>4</td>\n",
       "      <td>4</td>\n",
       "    </tr>\n",
       "  </tbody>\n",
       "</table>\n",
       "</div>"
      ],
      "text/plain": [
       "                                   uuid       date           event monthYear  \\\n",
       "0  00038504-c286-4c49-a6ed-d7853f65f7d6 2019-02-07  small_purchase   2019-02   \n",
       "1  00038504-c286-4c49-a6ed-d7853f65f7d6 2019-02-20  small_purchase   2019-02   \n",
       "2  00038504-c286-4c49-a6ed-d7853f65f7d6 2019-04-12         contact   2019-04   \n",
       "3  00038504-c286-4c49-a6ed-d7853f65f7d6 2019-04-19         contact   2019-04   \n",
       "4  00038504-c286-4c49-a6ed-d7853f65f7d6 2019-04-30         contact   2019-04   \n",
       "\n",
       "   month  year  week  interval  eventsClass  eventNumber  numEventsMonth  \n",
       "0      2  2019     6       NaN            2            0               2  \n",
       "1      2  2019     8      13.0            2            1               2  \n",
       "2      4  2019    15      51.0            1            2               4  \n",
       "3      4  2019    16       7.0            1            3               4  \n",
       "4      4  2019    18      11.0            1            4               4  "
      ]
     },
     "execution_count": 15,
     "metadata": {},
     "output_type": "execute_result"
    }
   ],
   "source": [
    "df = pd.merge(df,eventsMonth,how='left',on=['uuid','monthYear'])\n",
    "df.head()"
   ]
  },
  {
   "cell_type": "code",
   "execution_count": 16,
   "metadata": {},
   "outputs": [
    {
     "data": {
      "text/html": [
       "<div>\n",
       "<style scoped>\n",
       "    .dataframe tbody tr th:only-of-type {\n",
       "        vertical-align: middle;\n",
       "    }\n",
       "\n",
       "    .dataframe tbody tr th {\n",
       "        vertical-align: top;\n",
       "    }\n",
       "\n",
       "    .dataframe thead th {\n",
       "        text-align: right;\n",
       "    }\n",
       "</style>\n",
       "<table border=\"1\" class=\"dataframe\">\n",
       "  <thead>\n",
       "    <tr style=\"text-align: right;\">\n",
       "      <th></th>\n",
       "      <th>uuid</th>\n",
       "      <th>monthYear</th>\n",
       "      <th>purchaseMonth</th>\n",
       "    </tr>\n",
       "  </thead>\n",
       "  <tbody>\n",
       "    <tr>\n",
       "      <th>0</th>\n",
       "      <td>00038504-c286-4c49-a6ed-d7853f65f7d6</td>\n",
       "      <td>2019-02</td>\n",
       "      <td>2</td>\n",
       "    </tr>\n",
       "    <tr>\n",
       "      <th>1</th>\n",
       "      <td>00038504-c286-4c49-a6ed-d7853f65f7d6</td>\n",
       "      <td>2019-04</td>\n",
       "      <td>1</td>\n",
       "    </tr>\n",
       "    <tr>\n",
       "      <th>2</th>\n",
       "      <td>00038504-c286-4c49-a6ed-d7853f65f7d6</td>\n",
       "      <td>2019-05</td>\n",
       "      <td>1</td>\n",
       "    </tr>\n",
       "    <tr>\n",
       "      <th>3</th>\n",
       "      <td>0012c23d-379a-43fb-a91b-6f95c5358f52</td>\n",
       "      <td>2019-11</td>\n",
       "      <td>2</td>\n",
       "    </tr>\n",
       "    <tr>\n",
       "      <th>4</th>\n",
       "      <td>0012c23d-379a-43fb-a91b-6f95c5358f52</td>\n",
       "      <td>2019-12</td>\n",
       "      <td>2</td>\n",
       "    </tr>\n",
       "  </tbody>\n",
       "</table>\n",
       "</div>"
      ],
      "text/plain": [
       "                                   uuid monthYear  purchaseMonth\n",
       "0  00038504-c286-4c49-a6ed-d7853f65f7d6   2019-02              2\n",
       "1  00038504-c286-4c49-a6ed-d7853f65f7d6   2019-04              1\n",
       "2  00038504-c286-4c49-a6ed-d7853f65f7d6   2019-05              1\n",
       "3  0012c23d-379a-43fb-a91b-6f95c5358f52   2019-11              2\n",
       "4  0012c23d-379a-43fb-a91b-6f95c5358f52   2019-12              2"
      ]
     },
     "execution_count": 16,
     "metadata": {},
     "output_type": "execute_result"
    }
   ],
   "source": [
    "# count purchase events by month\n",
    "purchaseFilter = df.eventsClass != 1\n",
    "purchaseMonth = df[purchaseFilter].groupby(['uuid','monthYear']).size().reset_index(name='purchaseMonth')\n",
    "purchaseMonth.head()"
   ]
  },
  {
   "cell_type": "code",
   "execution_count": 17,
   "metadata": {},
   "outputs": [
    {
     "data": {
      "text/html": [
       "<div>\n",
       "<style scoped>\n",
       "    .dataframe tbody tr th:only-of-type {\n",
       "        vertical-align: middle;\n",
       "    }\n",
       "\n",
       "    .dataframe tbody tr th {\n",
       "        vertical-align: top;\n",
       "    }\n",
       "\n",
       "    .dataframe thead th {\n",
       "        text-align: right;\n",
       "    }\n",
       "</style>\n",
       "<table border=\"1\" class=\"dataframe\">\n",
       "  <thead>\n",
       "    <tr style=\"text-align: right;\">\n",
       "      <th></th>\n",
       "      <th>uuid</th>\n",
       "      <th>date</th>\n",
       "      <th>event</th>\n",
       "      <th>monthYear</th>\n",
       "      <th>month</th>\n",
       "      <th>year</th>\n",
       "      <th>week</th>\n",
       "      <th>interval</th>\n",
       "      <th>eventsClass</th>\n",
       "      <th>eventNumber</th>\n",
       "      <th>numEventsMonth</th>\n",
       "      <th>purchaseMonth</th>\n",
       "    </tr>\n",
       "  </thead>\n",
       "  <tbody>\n",
       "    <tr>\n",
       "      <th>0</th>\n",
       "      <td>00038504-c286-4c49-a6ed-d7853f65f7d6</td>\n",
       "      <td>2019-02-07</td>\n",
       "      <td>small_purchase</td>\n",
       "      <td>2019-02</td>\n",
       "      <td>2</td>\n",
       "      <td>2019</td>\n",
       "      <td>6</td>\n",
       "      <td>0.0</td>\n",
       "      <td>2</td>\n",
       "      <td>0</td>\n",
       "      <td>2</td>\n",
       "      <td>2.0</td>\n",
       "    </tr>\n",
       "    <tr>\n",
       "      <th>1</th>\n",
       "      <td>00038504-c286-4c49-a6ed-d7853f65f7d6</td>\n",
       "      <td>2019-02-20</td>\n",
       "      <td>small_purchase</td>\n",
       "      <td>2019-02</td>\n",
       "      <td>2</td>\n",
       "      <td>2019</td>\n",
       "      <td>8</td>\n",
       "      <td>13.0</td>\n",
       "      <td>2</td>\n",
       "      <td>1</td>\n",
       "      <td>2</td>\n",
       "      <td>2.0</td>\n",
       "    </tr>\n",
       "    <tr>\n",
       "      <th>2</th>\n",
       "      <td>00038504-c286-4c49-a6ed-d7853f65f7d6</td>\n",
       "      <td>2019-04-12</td>\n",
       "      <td>contact</td>\n",
       "      <td>2019-04</td>\n",
       "      <td>4</td>\n",
       "      <td>2019</td>\n",
       "      <td>15</td>\n",
       "      <td>51.0</td>\n",
       "      <td>1</td>\n",
       "      <td>2</td>\n",
       "      <td>4</td>\n",
       "      <td>1.0</td>\n",
       "    </tr>\n",
       "    <tr>\n",
       "      <th>3</th>\n",
       "      <td>00038504-c286-4c49-a6ed-d7853f65f7d6</td>\n",
       "      <td>2019-04-19</td>\n",
       "      <td>contact</td>\n",
       "      <td>2019-04</td>\n",
       "      <td>4</td>\n",
       "      <td>2019</td>\n",
       "      <td>16</td>\n",
       "      <td>7.0</td>\n",
       "      <td>1</td>\n",
       "      <td>3</td>\n",
       "      <td>4</td>\n",
       "      <td>1.0</td>\n",
       "    </tr>\n",
       "    <tr>\n",
       "      <th>4</th>\n",
       "      <td>00038504-c286-4c49-a6ed-d7853f65f7d6</td>\n",
       "      <td>2019-04-30</td>\n",
       "      <td>contact</td>\n",
       "      <td>2019-04</td>\n",
       "      <td>4</td>\n",
       "      <td>2019</td>\n",
       "      <td>18</td>\n",
       "      <td>11.0</td>\n",
       "      <td>1</td>\n",
       "      <td>4</td>\n",
       "      <td>4</td>\n",
       "      <td>1.0</td>\n",
       "    </tr>\n",
       "  </tbody>\n",
       "</table>\n",
       "</div>"
      ],
      "text/plain": [
       "                                   uuid       date           event monthYear  \\\n",
       "0  00038504-c286-4c49-a6ed-d7853f65f7d6 2019-02-07  small_purchase   2019-02   \n",
       "1  00038504-c286-4c49-a6ed-d7853f65f7d6 2019-02-20  small_purchase   2019-02   \n",
       "2  00038504-c286-4c49-a6ed-d7853f65f7d6 2019-04-12         contact   2019-04   \n",
       "3  00038504-c286-4c49-a6ed-d7853f65f7d6 2019-04-19         contact   2019-04   \n",
       "4  00038504-c286-4c49-a6ed-d7853f65f7d6 2019-04-30         contact   2019-04   \n",
       "\n",
       "   month  year  week  interval  eventsClass  eventNumber  numEventsMonth  \\\n",
       "0      2  2019     6       0.0            2            0               2   \n",
       "1      2  2019     8      13.0            2            1               2   \n",
       "2      4  2019    15      51.0            1            2               4   \n",
       "3      4  2019    16       7.0            1            3               4   \n",
       "4      4  2019    18      11.0            1            4               4   \n",
       "\n",
       "   purchaseMonth  \n",
       "0            2.0  \n",
       "1            2.0  \n",
       "2            1.0  \n",
       "3            1.0  \n",
       "4            1.0  "
      ]
     },
     "execution_count": 17,
     "metadata": {},
     "output_type": "execute_result"
    }
   ],
   "source": [
    "df = pd.merge(df,purchaseMonth,how='left',on=['uuid','monthYear'])\n",
    "df.fillna(0,inplace=True)\n",
    "df.head()"
   ]
  },
  {
   "cell_type": "code",
   "execution_count": 18,
   "metadata": {},
   "outputs": [
    {
     "data": {
      "text/html": [
       "<div>\n",
       "<style scoped>\n",
       "    .dataframe tbody tr th:only-of-type {\n",
       "        vertical-align: middle;\n",
       "    }\n",
       "\n",
       "    .dataframe tbody tr th {\n",
       "        vertical-align: top;\n",
       "    }\n",
       "\n",
       "    .dataframe thead th {\n",
       "        text-align: right;\n",
       "    }\n",
       "</style>\n",
       "<table border=\"1\" class=\"dataframe\">\n",
       "  <thead>\n",
       "    <tr style=\"text-align: right;\">\n",
       "      <th></th>\n",
       "      <th>uuid</th>\n",
       "      <th>monthYear</th>\n",
       "      <th>contactMonth</th>\n",
       "    </tr>\n",
       "  </thead>\n",
       "  <tbody>\n",
       "    <tr>\n",
       "      <th>0</th>\n",
       "      <td>00038504-c286-4c49-a6ed-d7853f65f7d6</td>\n",
       "      <td>2019-04</td>\n",
       "      <td>3</td>\n",
       "    </tr>\n",
       "    <tr>\n",
       "      <th>1</th>\n",
       "      <td>00038504-c286-4c49-a6ed-d7853f65f7d6</td>\n",
       "      <td>2019-06</td>\n",
       "      <td>2</td>\n",
       "    </tr>\n",
       "    <tr>\n",
       "      <th>2</th>\n",
       "      <td>00038504-c286-4c49-a6ed-d7853f65f7d6</td>\n",
       "      <td>2019-07</td>\n",
       "      <td>2</td>\n",
       "    </tr>\n",
       "    <tr>\n",
       "      <th>3</th>\n",
       "      <td>0012c23d-379a-43fb-a91b-6f95c5358f52</td>\n",
       "      <td>2019-09</td>\n",
       "      <td>1</td>\n",
       "    </tr>\n",
       "    <tr>\n",
       "      <th>4</th>\n",
       "      <td>0012c23d-379a-43fb-a91b-6f95c5358f52</td>\n",
       "      <td>2019-10</td>\n",
       "      <td>1</td>\n",
       "    </tr>\n",
       "  </tbody>\n",
       "</table>\n",
       "</div>"
      ],
      "text/plain": [
       "                                   uuid monthYear  contactMonth\n",
       "0  00038504-c286-4c49-a6ed-d7853f65f7d6   2019-04             3\n",
       "1  00038504-c286-4c49-a6ed-d7853f65f7d6   2019-06             2\n",
       "2  00038504-c286-4c49-a6ed-d7853f65f7d6   2019-07             2\n",
       "3  0012c23d-379a-43fb-a91b-6f95c5358f52   2019-09             1\n",
       "4  0012c23d-379a-43fb-a91b-6f95c5358f52   2019-10             1"
      ]
     },
     "execution_count": 18,
     "metadata": {},
     "output_type": "execute_result"
    }
   ],
   "source": [
    "# count contact events by month\n",
    "contactFilter = df.eventsClass == 1\n",
    "contactMonth = df[contactFilter].groupby(['uuid','monthYear']).size().reset_index(name='contactMonth')\n",
    "contactMonth.head()"
   ]
  },
  {
   "cell_type": "code",
   "execution_count": 19,
   "metadata": {},
   "outputs": [
    {
     "data": {
      "text/html": [
       "<div>\n",
       "<style scoped>\n",
       "    .dataframe tbody tr th:only-of-type {\n",
       "        vertical-align: middle;\n",
       "    }\n",
       "\n",
       "    .dataframe tbody tr th {\n",
       "        vertical-align: top;\n",
       "    }\n",
       "\n",
       "    .dataframe thead th {\n",
       "        text-align: right;\n",
       "    }\n",
       "</style>\n",
       "<table border=\"1\" class=\"dataframe\">\n",
       "  <thead>\n",
       "    <tr style=\"text-align: right;\">\n",
       "      <th></th>\n",
       "      <th>uuid</th>\n",
       "      <th>date</th>\n",
       "      <th>event</th>\n",
       "      <th>monthYear</th>\n",
       "      <th>month</th>\n",
       "      <th>year</th>\n",
       "      <th>week</th>\n",
       "      <th>interval</th>\n",
       "      <th>eventsClass</th>\n",
       "      <th>eventNumber</th>\n",
       "      <th>numEventsMonth</th>\n",
       "      <th>purchaseMonth</th>\n",
       "      <th>contactMonth</th>\n",
       "    </tr>\n",
       "  </thead>\n",
       "  <tbody>\n",
       "    <tr>\n",
       "      <th>0</th>\n",
       "      <td>00038504-c286-4c49-a6ed-d7853f65f7d6</td>\n",
       "      <td>2019-02-07</td>\n",
       "      <td>small_purchase</td>\n",
       "      <td>2019-02</td>\n",
       "      <td>2</td>\n",
       "      <td>2019</td>\n",
       "      <td>6</td>\n",
       "      <td>0.0</td>\n",
       "      <td>2</td>\n",
       "      <td>0</td>\n",
       "      <td>2</td>\n",
       "      <td>2.0</td>\n",
       "      <td>0.0</td>\n",
       "    </tr>\n",
       "    <tr>\n",
       "      <th>1</th>\n",
       "      <td>00038504-c286-4c49-a6ed-d7853f65f7d6</td>\n",
       "      <td>2019-02-20</td>\n",
       "      <td>small_purchase</td>\n",
       "      <td>2019-02</td>\n",
       "      <td>2</td>\n",
       "      <td>2019</td>\n",
       "      <td>8</td>\n",
       "      <td>13.0</td>\n",
       "      <td>2</td>\n",
       "      <td>1</td>\n",
       "      <td>2</td>\n",
       "      <td>2.0</td>\n",
       "      <td>0.0</td>\n",
       "    </tr>\n",
       "    <tr>\n",
       "      <th>2</th>\n",
       "      <td>00038504-c286-4c49-a6ed-d7853f65f7d6</td>\n",
       "      <td>2019-04-12</td>\n",
       "      <td>contact</td>\n",
       "      <td>2019-04</td>\n",
       "      <td>4</td>\n",
       "      <td>2019</td>\n",
       "      <td>15</td>\n",
       "      <td>51.0</td>\n",
       "      <td>1</td>\n",
       "      <td>2</td>\n",
       "      <td>4</td>\n",
       "      <td>1.0</td>\n",
       "      <td>3.0</td>\n",
       "    </tr>\n",
       "    <tr>\n",
       "      <th>3</th>\n",
       "      <td>00038504-c286-4c49-a6ed-d7853f65f7d6</td>\n",
       "      <td>2019-04-19</td>\n",
       "      <td>contact</td>\n",
       "      <td>2019-04</td>\n",
       "      <td>4</td>\n",
       "      <td>2019</td>\n",
       "      <td>16</td>\n",
       "      <td>7.0</td>\n",
       "      <td>1</td>\n",
       "      <td>3</td>\n",
       "      <td>4</td>\n",
       "      <td>1.0</td>\n",
       "      <td>3.0</td>\n",
       "    </tr>\n",
       "    <tr>\n",
       "      <th>4</th>\n",
       "      <td>00038504-c286-4c49-a6ed-d7853f65f7d6</td>\n",
       "      <td>2019-04-30</td>\n",
       "      <td>contact</td>\n",
       "      <td>2019-04</td>\n",
       "      <td>4</td>\n",
       "      <td>2019</td>\n",
       "      <td>18</td>\n",
       "      <td>11.0</td>\n",
       "      <td>1</td>\n",
       "      <td>4</td>\n",
       "      <td>4</td>\n",
       "      <td>1.0</td>\n",
       "      <td>3.0</td>\n",
       "    </tr>\n",
       "  </tbody>\n",
       "</table>\n",
       "</div>"
      ],
      "text/plain": [
       "                                   uuid       date           event monthYear  \\\n",
       "0  00038504-c286-4c49-a6ed-d7853f65f7d6 2019-02-07  small_purchase   2019-02   \n",
       "1  00038504-c286-4c49-a6ed-d7853f65f7d6 2019-02-20  small_purchase   2019-02   \n",
       "2  00038504-c286-4c49-a6ed-d7853f65f7d6 2019-04-12         contact   2019-04   \n",
       "3  00038504-c286-4c49-a6ed-d7853f65f7d6 2019-04-19         contact   2019-04   \n",
       "4  00038504-c286-4c49-a6ed-d7853f65f7d6 2019-04-30         contact   2019-04   \n",
       "\n",
       "   month  year  week  interval  eventsClass  eventNumber  numEventsMonth  \\\n",
       "0      2  2019     6       0.0            2            0               2   \n",
       "1      2  2019     8      13.0            2            1               2   \n",
       "2      4  2019    15      51.0            1            2               4   \n",
       "3      4  2019    16       7.0            1            3               4   \n",
       "4      4  2019    18      11.0            1            4               4   \n",
       "\n",
       "   purchaseMonth  contactMonth  \n",
       "0            2.0           0.0  \n",
       "1            2.0           0.0  \n",
       "2            1.0           3.0  \n",
       "3            1.0           3.0  \n",
       "4            1.0           3.0  "
      ]
     },
     "execution_count": 19,
     "metadata": {},
     "output_type": "execute_result"
    }
   ],
   "source": [
    "df = pd.merge(df,contactMonth,how='left',on=['uuid','monthYear'])\n",
    "df.fillna(0,inplace=True)\n",
    "df.head()"
   ]
  },
  {
   "cell_type": "code",
   "execution_count": 20,
   "metadata": {},
   "outputs": [
    {
     "data": {
      "text/html": [
       "<div>\n",
       "<style scoped>\n",
       "    .dataframe tbody tr th:only-of-type {\n",
       "        vertical-align: middle;\n",
       "    }\n",
       "\n",
       "    .dataframe tbody tr th {\n",
       "        vertical-align: top;\n",
       "    }\n",
       "\n",
       "    .dataframe thead th {\n",
       "        text-align: right;\n",
       "    }\n",
       "</style>\n",
       "<table border=\"1\" class=\"dataframe\">\n",
       "  <thead>\n",
       "    <tr style=\"text-align: right;\">\n",
       "      <th></th>\n",
       "      <th>uuid</th>\n",
       "      <th>year</th>\n",
       "      <th>week</th>\n",
       "      <th>numEventsLast7D</th>\n",
       "    </tr>\n",
       "  </thead>\n",
       "  <tbody>\n",
       "    <tr>\n",
       "      <th>0</th>\n",
       "      <td>00038504-c286-4c49-a6ed-d7853f65f7d6</td>\n",
       "      <td>2019</td>\n",
       "      <td>6</td>\n",
       "      <td>1</td>\n",
       "    </tr>\n",
       "    <tr>\n",
       "      <th>1</th>\n",
       "      <td>00038504-c286-4c49-a6ed-d7853f65f7d6</td>\n",
       "      <td>2019</td>\n",
       "      <td>8</td>\n",
       "      <td>1</td>\n",
       "    </tr>\n",
       "    <tr>\n",
       "      <th>2</th>\n",
       "      <td>00038504-c286-4c49-a6ed-d7853f65f7d6</td>\n",
       "      <td>2019</td>\n",
       "      <td>15</td>\n",
       "      <td>1</td>\n",
       "    </tr>\n",
       "    <tr>\n",
       "      <th>3</th>\n",
       "      <td>00038504-c286-4c49-a6ed-d7853f65f7d6</td>\n",
       "      <td>2019</td>\n",
       "      <td>16</td>\n",
       "      <td>1</td>\n",
       "    </tr>\n",
       "    <tr>\n",
       "      <th>4</th>\n",
       "      <td>00038504-c286-4c49-a6ed-d7853f65f7d6</td>\n",
       "      <td>2019</td>\n",
       "      <td>18</td>\n",
       "      <td>2</td>\n",
       "    </tr>\n",
       "  </tbody>\n",
       "</table>\n",
       "</div>"
      ],
      "text/plain": [
       "                                   uuid  year  week  numEventsLast7D\n",
       "0  00038504-c286-4c49-a6ed-d7853f65f7d6  2019     6                1\n",
       "1  00038504-c286-4c49-a6ed-d7853f65f7d6  2019     8                1\n",
       "2  00038504-c286-4c49-a6ed-d7853f65f7d6  2019    15                1\n",
       "3  00038504-c286-4c49-a6ed-d7853f65f7d6  2019    16                1\n",
       "4  00038504-c286-4c49-a6ed-d7853f65f7d6  2019    18                2"
      ]
     },
     "execution_count": 20,
     "metadata": {},
     "output_type": "execute_result"
    }
   ],
   "source": [
    "# count number of events on the last 7 days\n",
    "eventsLast7D = df.groupby(['uuid','year','week']).size().reset_index(name='numEventsLast7D')\n",
    "eventsLast7D.head()"
   ]
  },
  {
   "cell_type": "code",
   "execution_count": 21,
   "metadata": {},
   "outputs": [
    {
     "data": {
      "text/html": [
       "<div>\n",
       "<style scoped>\n",
       "    .dataframe tbody tr th:only-of-type {\n",
       "        vertical-align: middle;\n",
       "    }\n",
       "\n",
       "    .dataframe tbody tr th {\n",
       "        vertical-align: top;\n",
       "    }\n",
       "\n",
       "    .dataframe thead th {\n",
       "        text-align: right;\n",
       "    }\n",
       "</style>\n",
       "<table border=\"1\" class=\"dataframe\">\n",
       "  <thead>\n",
       "    <tr style=\"text-align: right;\">\n",
       "      <th></th>\n",
       "      <th>uuid</th>\n",
       "      <th>date</th>\n",
       "      <th>event</th>\n",
       "      <th>monthYear</th>\n",
       "      <th>month</th>\n",
       "      <th>year</th>\n",
       "      <th>week</th>\n",
       "      <th>interval</th>\n",
       "      <th>eventsClass</th>\n",
       "      <th>eventNumber</th>\n",
       "      <th>numEventsMonth</th>\n",
       "      <th>purchaseMonth</th>\n",
       "      <th>contactMonth</th>\n",
       "      <th>numEventsLast7D</th>\n",
       "    </tr>\n",
       "  </thead>\n",
       "  <tbody>\n",
       "    <tr>\n",
       "      <th>0</th>\n",
       "      <td>00038504-c286-4c49-a6ed-d7853f65f7d6</td>\n",
       "      <td>2019-02-07</td>\n",
       "      <td>small_purchase</td>\n",
       "      <td>2019-02</td>\n",
       "      <td>2</td>\n",
       "      <td>2019</td>\n",
       "      <td>6</td>\n",
       "      <td>0.0</td>\n",
       "      <td>2</td>\n",
       "      <td>0</td>\n",
       "      <td>2</td>\n",
       "      <td>2.0</td>\n",
       "      <td>0.0</td>\n",
       "      <td>1</td>\n",
       "    </tr>\n",
       "    <tr>\n",
       "      <th>1</th>\n",
       "      <td>00038504-c286-4c49-a6ed-d7853f65f7d6</td>\n",
       "      <td>2019-02-20</td>\n",
       "      <td>small_purchase</td>\n",
       "      <td>2019-02</td>\n",
       "      <td>2</td>\n",
       "      <td>2019</td>\n",
       "      <td>8</td>\n",
       "      <td>13.0</td>\n",
       "      <td>2</td>\n",
       "      <td>1</td>\n",
       "      <td>2</td>\n",
       "      <td>2.0</td>\n",
       "      <td>0.0</td>\n",
       "      <td>1</td>\n",
       "    </tr>\n",
       "    <tr>\n",
       "      <th>2</th>\n",
       "      <td>00038504-c286-4c49-a6ed-d7853f65f7d6</td>\n",
       "      <td>2019-04-12</td>\n",
       "      <td>contact</td>\n",
       "      <td>2019-04</td>\n",
       "      <td>4</td>\n",
       "      <td>2019</td>\n",
       "      <td>15</td>\n",
       "      <td>51.0</td>\n",
       "      <td>1</td>\n",
       "      <td>2</td>\n",
       "      <td>4</td>\n",
       "      <td>1.0</td>\n",
       "      <td>3.0</td>\n",
       "      <td>1</td>\n",
       "    </tr>\n",
       "    <tr>\n",
       "      <th>3</th>\n",
       "      <td>00038504-c286-4c49-a6ed-d7853f65f7d6</td>\n",
       "      <td>2019-04-19</td>\n",
       "      <td>contact</td>\n",
       "      <td>2019-04</td>\n",
       "      <td>4</td>\n",
       "      <td>2019</td>\n",
       "      <td>16</td>\n",
       "      <td>7.0</td>\n",
       "      <td>1</td>\n",
       "      <td>3</td>\n",
       "      <td>4</td>\n",
       "      <td>1.0</td>\n",
       "      <td>3.0</td>\n",
       "      <td>1</td>\n",
       "    </tr>\n",
       "    <tr>\n",
       "      <th>4</th>\n",
       "      <td>00038504-c286-4c49-a6ed-d7853f65f7d6</td>\n",
       "      <td>2019-04-30</td>\n",
       "      <td>contact</td>\n",
       "      <td>2019-04</td>\n",
       "      <td>4</td>\n",
       "      <td>2019</td>\n",
       "      <td>18</td>\n",
       "      <td>11.0</td>\n",
       "      <td>1</td>\n",
       "      <td>4</td>\n",
       "      <td>4</td>\n",
       "      <td>1.0</td>\n",
       "      <td>3.0</td>\n",
       "      <td>2</td>\n",
       "    </tr>\n",
       "  </tbody>\n",
       "</table>\n",
       "</div>"
      ],
      "text/plain": [
       "                                   uuid       date           event monthYear  \\\n",
       "0  00038504-c286-4c49-a6ed-d7853f65f7d6 2019-02-07  small_purchase   2019-02   \n",
       "1  00038504-c286-4c49-a6ed-d7853f65f7d6 2019-02-20  small_purchase   2019-02   \n",
       "2  00038504-c286-4c49-a6ed-d7853f65f7d6 2019-04-12         contact   2019-04   \n",
       "3  00038504-c286-4c49-a6ed-d7853f65f7d6 2019-04-19         contact   2019-04   \n",
       "4  00038504-c286-4c49-a6ed-d7853f65f7d6 2019-04-30         contact   2019-04   \n",
       "\n",
       "   month  year  week  interval  eventsClass  eventNumber  numEventsMonth  \\\n",
       "0      2  2019     6       0.0            2            0               2   \n",
       "1      2  2019     8      13.0            2            1               2   \n",
       "2      4  2019    15      51.0            1            2               4   \n",
       "3      4  2019    16       7.0            1            3               4   \n",
       "4      4  2019    18      11.0            1            4               4   \n",
       "\n",
       "   purchaseMonth  contactMonth  numEventsLast7D  \n",
       "0            2.0           0.0                1  \n",
       "1            2.0           0.0                1  \n",
       "2            1.0           3.0                1  \n",
       "3            1.0           3.0                1  \n",
       "4            1.0           3.0                2  "
      ]
     },
     "execution_count": 21,
     "metadata": {},
     "output_type": "execute_result"
    }
   ],
   "source": [
    "df = pd.merge(df,eventsLast7D,how='left',on=['uuid','year','week'])\n",
    "df.head()"
   ]
  },
  {
   "cell_type": "markdown",
   "metadata": {},
   "source": [
    "## Churn Classification"
   ]
  },
  {
   "cell_type": "code",
   "execution_count": 22,
   "metadata": {},
   "outputs": [],
   "source": [
    "# calling the last date of each user as \"last\"\n",
    "# classifying the other dates before the last as 0\n",
    "indexLastDate = df.groupby('uuid', as_index=False).nth(-1).index\n",
    "df['churn'] = ['last' if x in indexLastDate else 0 for x in df.index]"
   ]
  },
  {
   "cell_type": "code",
   "execution_count": 23,
   "metadata": {},
   "outputs": [],
   "source": [
    "from datetime import date\n",
    "\n",
    "dayCalcChurn = pd.to_datetime(date(2021,1,1)) #first day of 2021 - to calculate probability of churn\n",
    "\n",
    "daysLastEvent = []\n",
    "for i in range(0,len(df)):\n",
    "    diffDaysLast = abs(dayCalcChurn - df.date[i]).days\n",
    "    daysLastEvent.append(diffDaysLast)\n",
    "\n",
    "df['days_last_event'] = daysLastEvent \n"
   ]
  },
  {
   "cell_type": "code",
   "execution_count": 24,
   "metadata": {},
   "outputs": [],
   "source": [
    "# classifyng churn (1's) on ds\n",
    "cutOffDate = 90\n",
    "cond1 = df.churn == 'last'\n",
    "cond2 = df.days_last_event > cutOffDate\n",
    "df.loc[cond1 & cond2,'churn'] = 1\n"
   ]
  },
  {
   "cell_type": "code",
   "execution_count": 25,
   "metadata": {},
   "outputs": [
    {
     "data": {
      "text/plain": [
       "0       103069\n",
       "last       719\n",
       "1          315\n",
       "Name: churn, dtype: int64"
      ]
     },
     "execution_count": 25,
     "metadata": {},
     "output_type": "execute_result"
    }
   ],
   "source": [
    "df.churn.value_counts()"
   ]
  },
  {
   "cell_type": "markdown",
   "metadata": {},
   "source": [
    "In this scenario, we have 103069 not churn events, 315 churn events and 719 events that we don't know how to classify yet."
   ]
  },
  {
   "cell_type": "markdown",
   "metadata": {},
   "source": [
    "## Undersampling & Oversampling"
   ]
  },
  {
   "cell_type": "code",
   "execution_count": 26,
   "metadata": {},
   "outputs": [
    {
     "name": "stdout",
     "output_type": "stream",
     "text": [
      "Shape of Train + Valid dataset: (103384, 7)\n"
     ]
    }
   ],
   "source": [
    "# the known values will be used for train and valid dataset\n",
    "trainValid = df.loc[df.churn != 'last']\n",
    "trainValid = trainValid[['month','interval','eventsClass','eventNumber',\n",
    "                         'numEventsMonth','purchaseMonth','churn']]\n",
    "print(\"Shape of Train + Valid dataset:\",trainValid.shape)"
   ]
  },
  {
   "cell_type": "code",
   "execution_count": 27,
   "metadata": {},
   "outputs": [
    {
     "name": "stdout",
     "output_type": "stream",
     "text": [
      "Shape of X Train dataset:  (72368, 6)\n",
      "Shape of y Train dataset:  (72368,)\n",
      "Shape of X Valid dataset:  (31016, 6)\n",
      "Shape of y Valid dataset:  (31016,)\n"
     ]
    }
   ],
   "source": [
    "from sklearn.model_selection import train_test_split\n",
    "X_train, X_valid, y_train, y_valid = train_test_split(trainValid.drop(columns=['churn']),trainValid['churn'], test_size=0.3,random_state=42)\n",
    "print(\"Shape of X Train dataset: \",X_train.shape)\n",
    "print(\"Shape of y Train dataset: \",y_train.shape)\n",
    "print(\"Shape of X Valid dataset: \",X_valid.shape)\n",
    "print(\"Shape of y Valid dataset: \",y_valid.shape)"
   ]
  },
  {
   "cell_type": "markdown",
   "metadata": {},
   "source": [
    "### Applying RandomUnderSampling in majority class"
   ]
  },
  {
   "cell_type": "code",
   "execution_count": 28,
   "metadata": {},
   "outputs": [],
   "source": [
    "from imblearn.under_sampling import RandomUnderSampler\n",
    "rus = RandomUnderSampler(random_state=42,sampling_strategy=0.01)"
   ]
  },
  {
   "cell_type": "code",
   "execution_count": 29,
   "metadata": {},
   "outputs": [
    {
     "name": "stdout",
     "output_type": "stream",
     "text": [
      "Shape of X Train dataset:  (22725, 6)\n",
      "Shape of y Train dataset:  (22725,)\n",
      "Shape of X Valid dataset:  (9090, 6)\n",
      "Shape of y Valid dataset:  (9090,)\n"
     ]
    }
   ],
   "source": [
    "X_train_res, y_train_res = rus.fit_resample(X_train, y_train.astype('int'))\n",
    "X_valid_res, y_valid_res = rus.fit_resample(X_valid, y_valid.astype('int'))\n",
    "print(\"Shape of X Train dataset: \",X_train_res.shape)\n",
    "print(\"Shape of y Train dataset: \",y_train_res.shape)\n",
    "print(\"Shape of X Valid dataset: \",X_valid_res.shape)\n",
    "print(\"Shape of y Valid dataset: \",y_valid_res.shape)"
   ]
  },
  {
   "cell_type": "markdown",
   "metadata": {},
   "source": [
    "### Applying SMOTE to implement oversampling"
   ]
  },
  {
   "cell_type": "code",
   "execution_count": 30,
   "metadata": {},
   "outputs": [],
   "source": [
    "from imblearn.over_sampling import SMOTE\n",
    "sm = SMOTE(random_state=42,sampling_strategy=1.0)"
   ]
  },
  {
   "cell_type": "code",
   "execution_count": 31,
   "metadata": {},
   "outputs": [
    {
     "name": "stdout",
     "output_type": "stream",
     "text": [
      "Shape of X Train dataset:  (45000, 6)\n",
      "Shape of y Train dataset:  (45000,)\n",
      "Shape of X Valid dataset:  (18000, 6)\n",
      "Shape of y Valid dataset:  (18000,)\n"
     ]
    }
   ],
   "source": [
    "X_train_res, y_train_res = sm.fit_resample(X_train_res, y_train_res.astype('int'))\n",
    "X_valid_res, y_valid_res = sm.fit_resample(X_valid_res, y_valid_res.astype('int'))\n",
    "print(\"Shape of X Train dataset: \",X_train_res.shape)\n",
    "print(\"Shape of y Train dataset: \",y_train_res.shape)\n",
    "print(\"Shape of X Valid dataset: \",X_valid_res.shape)\n",
    "print(\"Shape of y Valid dataset: \",y_valid_res.shape)"
   ]
  },
  {
   "cell_type": "code",
   "execution_count": 32,
   "metadata": {},
   "outputs": [
    {
     "name": "stdout",
     "output_type": "stream",
     "text": [
      "Shape of Test dataset: (719, 6)\n"
     ]
    }
   ],
   "source": [
    "# test dataset will alocate the unknown values that will be used for prediction\n",
    "test = df.loc[df.churn == 'last']\n",
    "X_test = test[['month','interval','eventsClass','eventNumber','numEventsMonth','purchaseMonth']]\n",
    "print(\"Shape of Test dataset:\",X_test.shape)"
   ]
  },
  {
   "cell_type": "markdown",
   "metadata": {},
   "source": [
    "## Model Validation"
   ]
  },
  {
   "cell_type": "code",
   "execution_count": 33,
   "metadata": {},
   "outputs": [],
   "source": [
    "from sklearn.neighbors import KNeighborsClassifier\n",
    "from sklearn.tree import DecisionTreeClassifier\n",
    "from sklearn.ensemble import RandomForestClassifier, AdaBoostClassifier\n",
    "from sklearn.naive_bayes import GaussianNB\n",
    "from sklearn.metrics import classification_report,confusion_matrix,accuracy_score, precision_score,recall_score, f1_score\n",
    "import scikitplot as skplt"
   ]
  },
  {
   "cell_type": "code",
   "execution_count": 34,
   "metadata": {},
   "outputs": [],
   "source": [
    "names = [\"Nearest_Neighbors\",\"Decision_Tree\", \"Random_Forest\",\"AdaBoost\",\"Naive_Bayes\"]\n",
    "\n",
    "classifiers = [\n",
    "    KNeighborsClassifier(3),\n",
    "    DecisionTreeClassifier(max_depth=5),\n",
    "    RandomForestClassifier(max_depth=5, n_estimators=100),\n",
    "    AdaBoostClassifier(n_estimators=100),\n",
    "    GaussianNB()]"
   ]
  },
  {
   "cell_type": "code",
   "execution_count": 35,
   "metadata": {},
   "outputs": [
    {
     "data": {
      "text/html": [
       "<div>\n",
       "<style scoped>\n",
       "    .dataframe tbody tr th:only-of-type {\n",
       "        vertical-align: middle;\n",
       "    }\n",
       "\n",
       "    .dataframe tbody tr th {\n",
       "        vertical-align: top;\n",
       "    }\n",
       "\n",
       "    .dataframe thead th {\n",
       "        text-align: right;\n",
       "    }\n",
       "</style>\n",
       "<table border=\"1\" class=\"dataframe\">\n",
       "  <thead>\n",
       "    <tr style=\"text-align: right;\">\n",
       "      <th></th>\n",
       "      <th>name</th>\n",
       "      <th>score</th>\n",
       "    </tr>\n",
       "  </thead>\n",
       "  <tbody>\n",
       "    <tr>\n",
       "      <th>3</th>\n",
       "      <td>AdaBoost</td>\n",
       "      <td>0.966508</td>\n",
       "    </tr>\n",
       "    <tr>\n",
       "      <th>0</th>\n",
       "      <td>Nearest_Neighbors</td>\n",
       "      <td>0.960275</td>\n",
       "    </tr>\n",
       "    <tr>\n",
       "      <th>2</th>\n",
       "      <td>Random_Forest</td>\n",
       "      <td>0.953420</td>\n",
       "    </tr>\n",
       "    <tr>\n",
       "      <th>1</th>\n",
       "      <td>Decision_Tree</td>\n",
       "      <td>0.944161</td>\n",
       "    </tr>\n",
       "    <tr>\n",
       "      <th>4</th>\n",
       "      <td>Naive_Bayes</td>\n",
       "      <td>0.928404</td>\n",
       "    </tr>\n",
       "  </tbody>\n",
       "</table>\n",
       "</div>"
      ],
      "text/plain": [
       "                name     score\n",
       "3           AdaBoost  0.966508\n",
       "0  Nearest_Neighbors  0.960275\n",
       "2      Random_Forest  0.953420\n",
       "1      Decision_Tree  0.944161\n",
       "4        Naive_Bayes  0.928404"
      ]
     },
     "execution_count": 35,
     "metadata": {},
     "output_type": "execute_result"
    }
   ],
   "source": [
    "scores = []\n",
    "for name, clf in zip(names, classifiers):\n",
    "    clf.fit(X_train_res, y_train_res.astype('int'))\n",
    "    prediction = clf.predict(X_valid_res)\n",
    "    score = precision_score(y_valid_res.astype('int'),prediction )\n",
    "    scores.append(score)\n",
    "\n",
    "models = pd.DataFrame()\n",
    "models['name'] = names\n",
    "models['score'] = scores\n",
    "models.sort_values(by='score',ascending=False)"
   ]
  },
  {
   "cell_type": "code",
   "execution_count": 36,
   "metadata": {},
   "outputs": [],
   "source": [
    "best_model = AdaBoostClassifier(n_estimators=100)\n"
   ]
  },
  {
   "cell_type": "code",
   "execution_count": 37,
   "metadata": {},
   "outputs": [
    {
     "data": {
      "image/png": "[encoded data removed]",
      "text/plain": [
       "<Figure size 432x288 with 2 Axes>"
      ]
     },
     "metadata": {},
     "output_type": "display_data"
    }
   ],
   "source": [
    "best_model.fit(X_train_res, y_train_res.astype('int'))\n",
    "prediction = best_model.predict(X_valid)\n",
    "skplt.metrics.plot_confusion_matrix(y_valid.astype('int'),prediction)\n",
    "plt.title(\"Confusion Matrix\")\n",
    "plt.show()"
   ]
  },
  {
   "cell_type": "code",
   "execution_count": 38,
   "metadata": {},
   "outputs": [],
   "source": [
    "# now we will predict the values that we don't know if users churn or not\n",
    "churnPredict = best_model.predict(X_test)"
   ]
  },
  {
   "cell_type": "code",
   "execution_count": 39,
   "metadata": {},
   "outputs": [
    {
     "data": {
      "text/plain": [
       "719"
      ]
     },
     "execution_count": 39,
     "metadata": {},
     "output_type": "execute_result"
    }
   ],
   "source": [
    "len(churnPredict)"
   ]
  },
  {
   "cell_type": "code",
   "execution_count": 40,
   "metadata": {},
   "outputs": [],
   "source": [
    "#substituting for the values predicted by the model in the dataframe\n",
    "df.loc[df.churn == 'last','churn'] = churnPredict"
   ]
  },
  {
   "cell_type": "code",
   "execution_count": 41,
   "metadata": {},
   "outputs": [
    {
     "data": {
      "text/plain": [
       "0    103683\n",
       "1       420\n",
       "Name: churn, dtype: int64"
      ]
     },
     "execution_count": 41,
     "metadata": {},
     "output_type": "execute_result"
    }
   ],
   "source": [
    "df.churn.value_counts()"
   ]
  }
 ],
 "metadata": {
  "interpreter": {
   "hash": "7b34b089ce0dfc9935940e0a22050b2949fa617f7a2b73925623c261bed16aeb"
  },
  "kernelspec": {
   "display_name": "Python 3.7.6 64-bit ('base': conda)",
   "language": "python",
   "name": "python3"
  },
  "language_info": {
   "codemirror_mode": {
    "name": "ipython",
    "version": 3
   },
   "file_extension": ".py",
   "mimetype": "text/x-python",
   "name": "python",
   "nbconvert_exporter": "python",
   "pygments_lexer": "ipython3",
   "version": "3.7.6"
  },
  "orig_nbformat": 4
 },
 "nbformat": 4,
 "nbformat_minor": 2
}
