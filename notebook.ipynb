{
 "cells": [
  {
   "cell_type": "code",
   "execution_count": 54,
   "metadata": {},
   "outputs": [],
   "source": [
    "import pandas as pd\n",
    "import numpy as np\n",
    "import matplotlib.pyplot as plt\n",
    "import seaborn as sns\n",
    "import datetime"
   ]
  },
  {
   "cell_type": "code",
   "execution_count": 55,
   "metadata": {},
   "outputs": [
    {
     "data": {
      "text/html": [
       "<div>\n",
       "<style scoped>\n",
       "    .dataframe tbody tr th:only-of-type {\n",
       "        vertical-align: middle;\n",
       "    }\n",
       "\n",
       "    .dataframe tbody tr th {\n",
       "        vertical-align: top;\n",
       "    }\n",
       "\n",
       "    .dataframe thead th {\n",
       "        text-align: right;\n",
       "    }\n",
       "</style>\n",
       "<table border=\"1\" class=\"dataframe\">\n",
       "  <thead>\n",
       "    <tr style=\"text-align: right;\">\n",
       "      <th></th>\n",
       "      <th>uuid</th>\n",
       "      <th>date</th>\n",
       "      <th>event</th>\n",
       "    </tr>\n",
       "  </thead>\n",
       "  <tbody>\n",
       "    <tr>\n",
       "      <th>0</th>\n",
       "      <td>00038504-c286-4c49-a6ed-d7853f65f7d6</td>\n",
       "      <td>2019-02-07</td>\n",
       "      <td>small_purchase</td>\n",
       "    </tr>\n",
       "    <tr>\n",
       "      <th>1</th>\n",
       "      <td>00038504-c286-4c49-a6ed-d7853f65f7d6</td>\n",
       "      <td>2019-02-20</td>\n",
       "      <td>small_purchase</td>\n",
       "    </tr>\n",
       "    <tr>\n",
       "      <th>2</th>\n",
       "      <td>00038504-c286-4c49-a6ed-d7853f65f7d6</td>\n",
       "      <td>2019-04-12</td>\n",
       "      <td>contact</td>\n",
       "    </tr>\n",
       "    <tr>\n",
       "      <th>3</th>\n",
       "      <td>00038504-c286-4c49-a6ed-d7853f65f7d6</td>\n",
       "      <td>2019-04-19</td>\n",
       "      <td>contact</td>\n",
       "    </tr>\n",
       "    <tr>\n",
       "      <th>4</th>\n",
       "      <td>00038504-c286-4c49-a6ed-d7853f65f7d6</td>\n",
       "      <td>2019-04-30</td>\n",
       "      <td>contact</td>\n",
       "    </tr>\n",
       "    <tr>\n",
       "      <th>5</th>\n",
       "      <td>00038504-c286-4c49-a6ed-d7853f65f7d6</td>\n",
       "      <td>2019-04-30</td>\n",
       "      <td>big_purchase</td>\n",
       "    </tr>\n",
       "    <tr>\n",
       "      <th>6</th>\n",
       "      <td>00038504-c286-4c49-a6ed-d7853f65f7d6</td>\n",
       "      <td>2019-05-16</td>\n",
       "      <td>small_purchase</td>\n",
       "    </tr>\n",
       "    <tr>\n",
       "      <th>7</th>\n",
       "      <td>00038504-c286-4c49-a6ed-d7853f65f7d6</td>\n",
       "      <td>2019-06-05</td>\n",
       "      <td>contact</td>\n",
       "    </tr>\n",
       "    <tr>\n",
       "      <th>8</th>\n",
       "      <td>00038504-c286-4c49-a6ed-d7853f65f7d6</td>\n",
       "      <td>2019-06-14</td>\n",
       "      <td>contact</td>\n",
       "    </tr>\n",
       "    <tr>\n",
       "      <th>9</th>\n",
       "      <td>00038504-c286-4c49-a6ed-d7853f65f7d6</td>\n",
       "      <td>2019-07-11</td>\n",
       "      <td>contact</td>\n",
       "    </tr>\n",
       "    <tr>\n",
       "      <th>10</th>\n",
       "      <td>00038504-c286-4c49-a6ed-d7853f65f7d6</td>\n",
       "      <td>2019-07-12</td>\n",
       "      <td>contact</td>\n",
       "    </tr>\n",
       "    <tr>\n",
       "      <th>11</th>\n",
       "      <td>0012c23d-379a-43fb-a91b-6f95c5358f52</td>\n",
       "      <td>2019-09-23</td>\n",
       "      <td>contact</td>\n",
       "    </tr>\n",
       "    <tr>\n",
       "      <th>12</th>\n",
       "      <td>0012c23d-379a-43fb-a91b-6f95c5358f52</td>\n",
       "      <td>2019-10-06</td>\n",
       "      <td>contact</td>\n",
       "    </tr>\n",
       "    <tr>\n",
       "      <th>13</th>\n",
       "      <td>0012c23d-379a-43fb-a91b-6f95c5358f52</td>\n",
       "      <td>2019-11-01</td>\n",
       "      <td>big_purchase</td>\n",
       "    </tr>\n",
       "    <tr>\n",
       "      <th>14</th>\n",
       "      <td>0012c23d-379a-43fb-a91b-6f95c5358f52</td>\n",
       "      <td>2019-11-19</td>\n",
       "      <td>small_purchase</td>\n",
       "    </tr>\n",
       "    <tr>\n",
       "      <th>15</th>\n",
       "      <td>0012c23d-379a-43fb-a91b-6f95c5358f52</td>\n",
       "      <td>2019-12-18</td>\n",
       "      <td>contact</td>\n",
       "    </tr>\n",
       "    <tr>\n",
       "      <th>16</th>\n",
       "      <td>0012c23d-379a-43fb-a91b-6f95c5358f52</td>\n",
       "      <td>2019-12-22</td>\n",
       "      <td>small_purchase</td>\n",
       "    </tr>\n",
       "    <tr>\n",
       "      <th>17</th>\n",
       "      <td>0012c23d-379a-43fb-a91b-6f95c5358f52</td>\n",
       "      <td>2019-12-26</td>\n",
       "      <td>contact</td>\n",
       "    </tr>\n",
       "    <tr>\n",
       "      <th>18</th>\n",
       "      <td>0012c23d-379a-43fb-a91b-6f95c5358f52</td>\n",
       "      <td>2019-12-28</td>\n",
       "      <td>big_purchase</td>\n",
       "    </tr>\n",
       "    <tr>\n",
       "      <th>19</th>\n",
       "      <td>0012c23d-379a-43fb-a91b-6f95c5358f52</td>\n",
       "      <td>2020-01-05</td>\n",
       "      <td>contact</td>\n",
       "    </tr>\n",
       "  </tbody>\n",
       "</table>\n",
       "</div>"
      ],
      "text/plain": [
       "                                    uuid        date           event\n",
       "0   00038504-c286-4c49-a6ed-d7853f65f7d6  2019-02-07  small_purchase\n",
       "1   00038504-c286-4c49-a6ed-d7853f65f7d6  2019-02-20  small_purchase\n",
       "2   00038504-c286-4c49-a6ed-d7853f65f7d6  2019-04-12         contact\n",
       "3   00038504-c286-4c49-a6ed-d7853f65f7d6  2019-04-19         contact\n",
       "4   00038504-c286-4c49-a6ed-d7853f65f7d6  2019-04-30         contact\n",
       "5   00038504-c286-4c49-a6ed-d7853f65f7d6  2019-04-30    big_purchase\n",
       "6   00038504-c286-4c49-a6ed-d7853f65f7d6  2019-05-16  small_purchase\n",
       "7   00038504-c286-4c49-a6ed-d7853f65f7d6  2019-06-05         contact\n",
       "8   00038504-c286-4c49-a6ed-d7853f65f7d6  2019-06-14         contact\n",
       "9   00038504-c286-4c49-a6ed-d7853f65f7d6  2019-07-11         contact\n",
       "10  00038504-c286-4c49-a6ed-d7853f65f7d6  2019-07-12         contact\n",
       "11  0012c23d-379a-43fb-a91b-6f95c5358f52  2019-09-23         contact\n",
       "12  0012c23d-379a-43fb-a91b-6f95c5358f52  2019-10-06         contact\n",
       "13  0012c23d-379a-43fb-a91b-6f95c5358f52  2019-11-01    big_purchase\n",
       "14  0012c23d-379a-43fb-a91b-6f95c5358f52  2019-11-19  small_purchase\n",
       "15  0012c23d-379a-43fb-a91b-6f95c5358f52  2019-12-18         contact\n",
       "16  0012c23d-379a-43fb-a91b-6f95c5358f52  2019-12-22  small_purchase\n",
       "17  0012c23d-379a-43fb-a91b-6f95c5358f52  2019-12-26         contact\n",
       "18  0012c23d-379a-43fb-a91b-6f95c5358f52  2019-12-28    big_purchase\n",
       "19  0012c23d-379a-43fb-a91b-6f95c5358f52  2020-01-05         contact"
      ]
     },
     "execution_count": 55,
     "metadata": {},
     "output_type": "execute_result"
    }
   ],
   "source": [
    "df = pd.read_csv('churn_data.csv')\n",
    "df.head(20)"
   ]
  },
  {
   "cell_type": "code",
   "execution_count": 56,
   "metadata": {},
   "outputs": [
    {
     "name": "stdout",
     "output_type": "stream",
     "text": [
      "<class 'pandas.core.frame.DataFrame'>\n",
      "RangeIndex: 104103 entries, 0 to 104102\n",
      "Data columns (total 3 columns):\n",
      " #   Column  Non-Null Count   Dtype \n",
      "---  ------  --------------   ----- \n",
      " 0   uuid    104103 non-null  object\n",
      " 1   date    104103 non-null  object\n",
      " 2   event   104103 non-null  object\n",
      "dtypes: object(3)\n",
      "memory usage: 2.4+ MB\n"
     ]
    }
   ],
   "source": [
    "df.info()"
   ]
  },
  {
   "cell_type": "markdown",
   "metadata": {},
   "source": [
    "## EDA"
   ]
  },
  {
   "cell_type": "code",
   "execution_count": 57,
   "metadata": {},
   "outputs": [
    {
     "name": "stdout",
     "output_type": "stream",
     "text": [
      "Number of Events:  104103\n",
      "Number of Unique Users:  1034\n",
      "Type of Events:  ['small_purchase', 'contact', 'big_purchase']\n"
     ]
    }
   ],
   "source": [
    "print(\"Number of Events: \",df.shape[0])\n",
    "print(\"Number of Unique Users: \",df.uuid.nunique())\n",
    "print(\"Type of Events: \", df.event.unique()[0:3].tolist())"
   ]
  },
  {
   "cell_type": "code",
   "execution_count": 58,
   "metadata": {},
   "outputs": [],
   "source": [
    "df['date'] = pd.to_datetime(df['date'])\n",
    "df['monthYear'] = pd.to_datetime(df['date'],format='%Y-%m-%d').dt.to_period('M')\n",
    "df['month'] = pd.to_datetime(df['date'],format='%Y-%m-%d').dt.month"
   ]
  },
  {
   "cell_type": "code",
   "execution_count": 59,
   "metadata": {},
   "outputs": [
    {
     "data": {
      "image/png": "[encoded data removed]",
      "text/plain": [
       "<Figure size 1440x288 with 1 Axes>"
      ]
     },
     "metadata": {},
     "output_type": "display_data"
    }
   ],
   "source": [
    "plt.figure(figsize=(20,4))\n",
    "ax = sns.countplot(data=df.sort_values(by='monthYear',ascending=True),x=\"monthYear\", \n",
    "                   hue=\"event\",hue_order=['big_purchase','small_purchase','contact']\n",
    "                   ,palette=\"flare\")\n",
    "sns.set(style=\"whitegrid\")\n",
    "plt.xlabel('Month-Year')\n",
    "plt.ylabel('Count')\n",
    "plt.title('Events 2019-2020')\n",
    "plt.show()"
   ]
  },
  {
   "cell_type": "markdown",
   "metadata": {},
   "source": [
    "## Interval Between Events"
   ]
  },
  {
   "cell_type": "code",
   "execution_count": 60,
   "metadata": {},
   "outputs": [],
   "source": [
    "intervalBetweenEvents = []\n",
    "intervalBetweenEvents.append(0)\n",
    "\n",
    "for row in range(1,len(df)):\n",
    "    if df.uuid[row] == df.uuid[row-1]:\n",
    "        diffDates = abs(df.date[row] - df.date[(row-1)]).days\n",
    "        intervalBetweenEvents.append(diffDates)\n",
    "    else: intervalBetweenEvents.append(0)\n",
    "\n",
    "df['interval'] = intervalBetweenEvents"
   ]
  },
  {
   "cell_type": "code",
   "execution_count": 61,
   "metadata": {},
   "outputs": [
    {
     "data": {
      "image/png": "[encoded data removed]",
      "text/plain": [
       "<Figure size 432x288 with 1 Axes>"
      ]
     },
     "metadata": {},
     "output_type": "display_data"
    }
   ],
   "source": [
    "ax = sns.violinplot(data=df, x='interval',palette='flare')\n",
    "plt.xlabel('Interval Between Events')\n",
    "plt.title('Interval Between Events')\n",
    "plt.show()"
   ]
  },
  {
   "cell_type": "markdown",
   "metadata": {},
   "source": [
    "Calculating the optimal cut off date for determine customers that churned"
   ]
  },
  {
   "cell_type": "code",
   "execution_count": 62,
   "metadata": {},
   "outputs": [],
   "source": [
    "def calcChurnFP(interval):\n",
    "    falsePositive = df[df.interval > interval]['uuid'].nunique()\n",
    "    return print(\"False Positive:\",falsePositive)\n",
    "\n",
    "def calcChurnFPPerc(interval):\n",
    "    falsePositive = df[df.interval > interval]['uuid'].nunique()\n",
    "    numberUsers = df.uuid.nunique()\n",
    "    return print(\"Percentage:\",round((falsePositive/numberUsers)*100,2))"
   ]
  },
  {
   "cell_type": "code",
   "execution_count": 63,
   "metadata": {},
   "outputs": [
    {
     "name": "stdout",
     "output_type": "stream",
     "text": [
      "Interval: 60  days\n",
      "False Positive: 40\n",
      "Percentage: 3.87\n",
      "-----------------------\n",
      "Interval: 65  days\n",
      "False Positive: 27\n",
      "Percentage: 2.61\n",
      "-----------------------\n",
      "Interval: 70  days\n",
      "False Positive: 21\n",
      "Percentage: 2.03\n",
      "-----------------------\n",
      "Interval: 75  days\n",
      "False Positive: 13\n",
      "Percentage: 1.26\n",
      "-----------------------\n",
      "Interval: 80  days\n",
      "False Positive: 8\n",
      "Percentage: 0.77\n",
      "-----------------------\n",
      "Interval: 85  days\n",
      "False Positive: 5\n",
      "Percentage: 0.48\n",
      "-----------------------\n",
      "Interval: 90  days\n",
      "False Positive: 3\n",
      "Percentage: 0.29\n",
      "-----------------------\n"
     ]
    }
   ],
   "source": [
    "#calculating FP depending of interval\n",
    "for i in range(60,95,5):\n",
    "    print(\"Interval:\",i,\" days\")\n",
    "    calcChurnFP(i)\n",
    "    calcChurnFPPerc(i)\n",
    "    print(\"-----------------------\")"
   ]
  },
  {
   "cell_type": "markdown",
   "metadata": {},
   "source": [
    "## Feature Engineering"
   ]
  },
  {
   "cell_type": "code",
   "execution_count": 64,
   "metadata": {},
   "outputs": [
    {
     "data": {
      "text/plain": [
       "contact           58406\n",
       "small_purchase    30741\n",
       "big_purchase      14956\n",
       "Name: event, dtype: int64"
      ]
     },
     "execution_count": 64,
     "metadata": {},
     "output_type": "execute_result"
    }
   ],
   "source": [
    "# categorical column\n",
    "df.event.value_counts()"
   ]
  },
  {
   "cell_type": "code",
   "execution_count": 65,
   "metadata": {},
   "outputs": [
    {
     "data": {
      "text/html": [
       "<div>\n",
       "<style scoped>\n",
       "    .dataframe tbody tr th:only-of-type {\n",
       "        vertical-align: middle;\n",
       "    }\n",
       "\n",
       "    .dataframe tbody tr th {\n",
       "        vertical-align: top;\n",
       "    }\n",
       "\n",
       "    .dataframe thead th {\n",
       "        text-align: right;\n",
       "    }\n",
       "</style>\n",
       "<table border=\"1\" class=\"dataframe\">\n",
       "  <thead>\n",
       "    <tr style=\"text-align: right;\">\n",
       "      <th></th>\n",
       "      <th>uuid</th>\n",
       "      <th>date</th>\n",
       "      <th>event</th>\n",
       "      <th>monthYear</th>\n",
       "      <th>month</th>\n",
       "      <th>interval</th>\n",
       "      <th>eventsClass</th>\n",
       "    </tr>\n",
       "  </thead>\n",
       "  <tbody>\n",
       "    <tr>\n",
       "      <th>0</th>\n",
       "      <td>00038504-c286-4c49-a6ed-d7853f65f7d6</td>\n",
       "      <td>2019-02-07</td>\n",
       "      <td>small_purchase</td>\n",
       "      <td>2019-02</td>\n",
       "      <td>2</td>\n",
       "      <td>0</td>\n",
       "      <td>2</td>\n",
       "    </tr>\n",
       "    <tr>\n",
       "      <th>1</th>\n",
       "      <td>00038504-c286-4c49-a6ed-d7853f65f7d6</td>\n",
       "      <td>2019-02-20</td>\n",
       "      <td>small_purchase</td>\n",
       "      <td>2019-02</td>\n",
       "      <td>2</td>\n",
       "      <td>13</td>\n",
       "      <td>2</td>\n",
       "    </tr>\n",
       "    <tr>\n",
       "      <th>2</th>\n",
       "      <td>00038504-c286-4c49-a6ed-d7853f65f7d6</td>\n",
       "      <td>2019-04-12</td>\n",
       "      <td>contact</td>\n",
       "      <td>2019-04</td>\n",
       "      <td>4</td>\n",
       "      <td>51</td>\n",
       "      <td>1</td>\n",
       "    </tr>\n",
       "    <tr>\n",
       "      <th>3</th>\n",
       "      <td>00038504-c286-4c49-a6ed-d7853f65f7d6</td>\n",
       "      <td>2019-04-19</td>\n",
       "      <td>contact</td>\n",
       "      <td>2019-04</td>\n",
       "      <td>4</td>\n",
       "      <td>7</td>\n",
       "      <td>1</td>\n",
       "    </tr>\n",
       "    <tr>\n",
       "      <th>4</th>\n",
       "      <td>00038504-c286-4c49-a6ed-d7853f65f7d6</td>\n",
       "      <td>2019-04-30</td>\n",
       "      <td>contact</td>\n",
       "      <td>2019-04</td>\n",
       "      <td>4</td>\n",
       "      <td>11</td>\n",
       "      <td>1</td>\n",
       "    </tr>\n",
       "  </tbody>\n",
       "</table>\n",
       "</div>"
      ],
      "text/plain": [
       "                                   uuid       date           event monthYear  \\\n",
       "0  00038504-c286-4c49-a6ed-d7853f65f7d6 2019-02-07  small_purchase   2019-02   \n",
       "1  00038504-c286-4c49-a6ed-d7853f65f7d6 2019-02-20  small_purchase   2019-02   \n",
       "2  00038504-c286-4c49-a6ed-d7853f65f7d6 2019-04-12         contact   2019-04   \n",
       "3  00038504-c286-4c49-a6ed-d7853f65f7d6 2019-04-19         contact   2019-04   \n",
       "4  00038504-c286-4c49-a6ed-d7853f65f7d6 2019-04-30         contact   2019-04   \n",
       "\n",
       "   month  interval  eventsClass  \n",
       "0      2         0            2  \n",
       "1      2        13            2  \n",
       "2      4        51            1  \n",
       "3      4         7            1  \n",
       "4      4        11            1  "
      ]
     },
     "execution_count": 65,
     "metadata": {},
     "output_type": "execute_result"
    }
   ],
   "source": [
    "# categorical to numeric\n",
    "eventsClass = {'contact': 1,'small_purchase': 2,'big_purchase': 3 }\n",
    "df['eventsClass'] = df.event.replace(eventsClass)\n",
    "df.head()"
   ]
  },
  {
   "cell_type": "code",
   "execution_count": 66,
   "metadata": {},
   "outputs": [
    {
     "data": {
      "text/html": [
       "<div>\n",
       "<style scoped>\n",
       "    .dataframe tbody tr th:only-of-type {\n",
       "        vertical-align: middle;\n",
       "    }\n",
       "\n",
       "    .dataframe tbody tr th {\n",
       "        vertical-align: top;\n",
       "    }\n",
       "\n",
       "    .dataframe thead th {\n",
       "        text-align: right;\n",
       "    }\n",
       "</style>\n",
       "<table border=\"1\" class=\"dataframe\">\n",
       "  <thead>\n",
       "    <tr style=\"text-align: right;\">\n",
       "      <th></th>\n",
       "      <th>uuid</th>\n",
       "      <th>date</th>\n",
       "      <th>event</th>\n",
       "      <th>monthYear</th>\n",
       "      <th>month</th>\n",
       "      <th>interval</th>\n",
       "      <th>eventsClass</th>\n",
       "      <th>eventNumber</th>\n",
       "    </tr>\n",
       "  </thead>\n",
       "  <tbody>\n",
       "    <tr>\n",
       "      <th>0</th>\n",
       "      <td>00038504-c286-4c49-a6ed-d7853f65f7d6</td>\n",
       "      <td>2019-02-07</td>\n",
       "      <td>small_purchase</td>\n",
       "      <td>2019-02</td>\n",
       "      <td>2</td>\n",
       "      <td>0</td>\n",
       "      <td>2</td>\n",
       "      <td>0</td>\n",
       "    </tr>\n",
       "    <tr>\n",
       "      <th>1</th>\n",
       "      <td>00038504-c286-4c49-a6ed-d7853f65f7d6</td>\n",
       "      <td>2019-02-20</td>\n",
       "      <td>small_purchase</td>\n",
       "      <td>2019-02</td>\n",
       "      <td>2</td>\n",
       "      <td>13</td>\n",
       "      <td>2</td>\n",
       "      <td>1</td>\n",
       "    </tr>\n",
       "    <tr>\n",
       "      <th>2</th>\n",
       "      <td>00038504-c286-4c49-a6ed-d7853f65f7d6</td>\n",
       "      <td>2019-04-12</td>\n",
       "      <td>contact</td>\n",
       "      <td>2019-04</td>\n",
       "      <td>4</td>\n",
       "      <td>51</td>\n",
       "      <td>1</td>\n",
       "      <td>2</td>\n",
       "    </tr>\n",
       "    <tr>\n",
       "      <th>3</th>\n",
       "      <td>00038504-c286-4c49-a6ed-d7853f65f7d6</td>\n",
       "      <td>2019-04-19</td>\n",
       "      <td>contact</td>\n",
       "      <td>2019-04</td>\n",
       "      <td>4</td>\n",
       "      <td>7</td>\n",
       "      <td>1</td>\n",
       "      <td>3</td>\n",
       "    </tr>\n",
       "    <tr>\n",
       "      <th>4</th>\n",
       "      <td>00038504-c286-4c49-a6ed-d7853f65f7d6</td>\n",
       "      <td>2019-04-30</td>\n",
       "      <td>contact</td>\n",
       "      <td>2019-04</td>\n",
       "      <td>4</td>\n",
       "      <td>11</td>\n",
       "      <td>1</td>\n",
       "      <td>4</td>\n",
       "    </tr>\n",
       "  </tbody>\n",
       "</table>\n",
       "</div>"
      ],
      "text/plain": [
       "                                   uuid       date           event monthYear  \\\n",
       "0  00038504-c286-4c49-a6ed-d7853f65f7d6 2019-02-07  small_purchase   2019-02   \n",
       "1  00038504-c286-4c49-a6ed-d7853f65f7d6 2019-02-20  small_purchase   2019-02   \n",
       "2  00038504-c286-4c49-a6ed-d7853f65f7d6 2019-04-12         contact   2019-04   \n",
       "3  00038504-c286-4c49-a6ed-d7853f65f7d6 2019-04-19         contact   2019-04   \n",
       "4  00038504-c286-4c49-a6ed-d7853f65f7d6 2019-04-30         contact   2019-04   \n",
       "\n",
       "   month  interval  eventsClass  eventNumber  \n",
       "0      2         0            2            0  \n",
       "1      2        13            2            1  \n",
       "2      4        51            1            2  \n",
       "3      4         7            1            3  \n",
       "4      4        11            1            4  "
      ]
     },
     "execution_count": 66,
     "metadata": {},
     "output_type": "execute_result"
    }
   ],
   "source": [
    "# count number of events\n",
    "df['eventNumber'] = df.groupby('uuid').cumcount()\n",
    "df.head()"
   ]
  },
  {
   "cell_type": "code",
   "execution_count": 67,
   "metadata": {},
   "outputs": [
    {
     "data": {
      "text/html": [
       "<div>\n",
       "<style scoped>\n",
       "    .dataframe tbody tr th:only-of-type {\n",
       "        vertical-align: middle;\n",
       "    }\n",
       "\n",
       "    .dataframe tbody tr th {\n",
       "        vertical-align: top;\n",
       "    }\n",
       "\n",
       "    .dataframe thead th {\n",
       "        text-align: right;\n",
       "    }\n",
       "</style>\n",
       "<table border=\"1\" class=\"dataframe\">\n",
       "  <thead>\n",
       "    <tr style=\"text-align: right;\">\n",
       "      <th></th>\n",
       "      <th>uuid</th>\n",
       "      <th>monthYear</th>\n",
       "      <th>numEventsMonth</th>\n",
       "    </tr>\n",
       "  </thead>\n",
       "  <tbody>\n",
       "    <tr>\n",
       "      <th>0</th>\n",
       "      <td>00038504-c286-4c49-a6ed-d7853f65f7d6</td>\n",
       "      <td>2019-02</td>\n",
       "      <td>2</td>\n",
       "    </tr>\n",
       "    <tr>\n",
       "      <th>1</th>\n",
       "      <td>00038504-c286-4c49-a6ed-d7853f65f7d6</td>\n",
       "      <td>2019-04</td>\n",
       "      <td>4</td>\n",
       "    </tr>\n",
       "    <tr>\n",
       "      <th>2</th>\n",
       "      <td>00038504-c286-4c49-a6ed-d7853f65f7d6</td>\n",
       "      <td>2019-05</td>\n",
       "      <td>1</td>\n",
       "    </tr>\n",
       "    <tr>\n",
       "      <th>3</th>\n",
       "      <td>00038504-c286-4c49-a6ed-d7853f65f7d6</td>\n",
       "      <td>2019-06</td>\n",
       "      <td>2</td>\n",
       "    </tr>\n",
       "    <tr>\n",
       "      <th>4</th>\n",
       "      <td>00038504-c286-4c49-a6ed-d7853f65f7d6</td>\n",
       "      <td>2019-07</td>\n",
       "      <td>2</td>\n",
       "    </tr>\n",
       "  </tbody>\n",
       "</table>\n",
       "</div>"
      ],
      "text/plain": [
       "                                   uuid monthYear  numEventsMonth\n",
       "0  00038504-c286-4c49-a6ed-d7853f65f7d6   2019-02               2\n",
       "1  00038504-c286-4c49-a6ed-d7853f65f7d6   2019-04               4\n",
       "2  00038504-c286-4c49-a6ed-d7853f65f7d6   2019-05               1\n",
       "3  00038504-c286-4c49-a6ed-d7853f65f7d6   2019-06               2\n",
       "4  00038504-c286-4c49-a6ed-d7853f65f7d6   2019-07               2"
      ]
     },
     "execution_count": 67,
     "metadata": {},
     "output_type": "execute_result"
    }
   ],
   "source": [
    "# count number of events of month\n",
    "eventsMonth = df.groupby(['uuid','monthYear']).size().reset_index(name='numEventsMonth')\n",
    "eventsMonth.head()"
   ]
  },
  {
   "cell_type": "code",
   "execution_count": 68,
   "metadata": {},
   "outputs": [
    {
     "data": {
      "text/html": [
       "<div>\n",
       "<style scoped>\n",
       "    .dataframe tbody tr th:only-of-type {\n",
       "        vertical-align: middle;\n",
       "    }\n",
       "\n",
       "    .dataframe tbody tr th {\n",
       "        vertical-align: top;\n",
       "    }\n",
       "\n",
       "    .dataframe thead th {\n",
       "        text-align: right;\n",
       "    }\n",
       "</style>\n",
       "<table border=\"1\" class=\"dataframe\">\n",
       "  <thead>\n",
       "    <tr style=\"text-align: right;\">\n",
       "      <th></th>\n",
       "      <th>uuid</th>\n",
       "      <th>date</th>\n",
       "      <th>event</th>\n",
       "      <th>monthYear</th>\n",
       "      <th>month</th>\n",
       "      <th>interval</th>\n",
       "      <th>eventsClass</th>\n",
       "      <th>eventNumber</th>\n",
       "      <th>numEventsMonth</th>\n",
       "    </tr>\n",
       "  </thead>\n",
       "  <tbody>\n",
       "    <tr>\n",
       "      <th>0</th>\n",
       "      <td>00038504-c286-4c49-a6ed-d7853f65f7d6</td>\n",
       "      <td>2019-02-07</td>\n",
       "      <td>small_purchase</td>\n",
       "      <td>2019-02</td>\n",
       "      <td>2</td>\n",
       "      <td>0</td>\n",
       "      <td>2</td>\n",
       "      <td>0</td>\n",
       "      <td>2</td>\n",
       "    </tr>\n",
       "    <tr>\n",
       "      <th>1</th>\n",
       "      <td>00038504-c286-4c49-a6ed-d7853f65f7d6</td>\n",
       "      <td>2019-02-20</td>\n",
       "      <td>small_purchase</td>\n",
       "      <td>2019-02</td>\n",
       "      <td>2</td>\n",
       "      <td>13</td>\n",
       "      <td>2</td>\n",
       "      <td>1</td>\n",
       "      <td>2</td>\n",
       "    </tr>\n",
       "    <tr>\n",
       "      <th>2</th>\n",
       "      <td>00038504-c286-4c49-a6ed-d7853f65f7d6</td>\n",
       "      <td>2019-04-12</td>\n",
       "      <td>contact</td>\n",
       "      <td>2019-04</td>\n",
       "      <td>4</td>\n",
       "      <td>51</td>\n",
       "      <td>1</td>\n",
       "      <td>2</td>\n",
       "      <td>4</td>\n",
       "    </tr>\n",
       "    <tr>\n",
       "      <th>3</th>\n",
       "      <td>00038504-c286-4c49-a6ed-d7853f65f7d6</td>\n",
       "      <td>2019-04-19</td>\n",
       "      <td>contact</td>\n",
       "      <td>2019-04</td>\n",
       "      <td>4</td>\n",
       "      <td>7</td>\n",
       "      <td>1</td>\n",
       "      <td>3</td>\n",
       "      <td>4</td>\n",
       "    </tr>\n",
       "    <tr>\n",
       "      <th>4</th>\n",
       "      <td>00038504-c286-4c49-a6ed-d7853f65f7d6</td>\n",
       "      <td>2019-04-30</td>\n",
       "      <td>contact</td>\n",
       "      <td>2019-04</td>\n",
       "      <td>4</td>\n",
       "      <td>11</td>\n",
       "      <td>1</td>\n",
       "      <td>4</td>\n",
       "      <td>4</td>\n",
       "    </tr>\n",
       "  </tbody>\n",
       "</table>\n",
       "</div>"
      ],
      "text/plain": [
       "                                   uuid       date           event monthYear  \\\n",
       "0  00038504-c286-4c49-a6ed-d7853f65f7d6 2019-02-07  small_purchase   2019-02   \n",
       "1  00038504-c286-4c49-a6ed-d7853f65f7d6 2019-02-20  small_purchase   2019-02   \n",
       "2  00038504-c286-4c49-a6ed-d7853f65f7d6 2019-04-12         contact   2019-04   \n",
       "3  00038504-c286-4c49-a6ed-d7853f65f7d6 2019-04-19         contact   2019-04   \n",
       "4  00038504-c286-4c49-a6ed-d7853f65f7d6 2019-04-30         contact   2019-04   \n",
       "\n",
       "   month  interval  eventsClass  eventNumber  numEventsMonth  \n",
       "0      2         0            2            0               2  \n",
       "1      2        13            2            1               2  \n",
       "2      4        51            1            2               4  \n",
       "3      4         7            1            3               4  \n",
       "4      4        11            1            4               4  "
      ]
     },
     "execution_count": 68,
     "metadata": {},
     "output_type": "execute_result"
    }
   ],
   "source": [
    "df = pd.merge(df,eventsMonth,how='left',on=['uuid','monthYear'])\n",
    "df.head()"
   ]
  },
  {
   "cell_type": "code",
   "execution_count": 43,
   "metadata": {},
   "outputs": [
    {
     "ename": "ValueError",
     "evalue": "The truth value of a Series is ambiguous. Use a.empty, a.bool(), a.item(), a.any() or a.all().",
     "output_type": "error",
     "traceback": [
      "\u001b[0;31m---------------------------------------------------------------------------\u001b[0m",
      "\u001b[0;31mValueError\u001b[0m                                Traceback (most recent call last)",
      "\u001b[0;32m<ipython-input-43-428567f53f11>\u001b[0m in \u001b[0;36m<module>\u001b[0;34m\u001b[0m\n\u001b[1;32m      1\u001b[0m \u001b[0mpurchaseMonth\u001b[0m \u001b[0;34m=\u001b[0m \u001b[0mdf\u001b[0m\u001b[0;34m.\u001b[0m\u001b[0mgroupby\u001b[0m\u001b[0;34m(\u001b[0m\u001b[0;34m[\u001b[0m\u001b[0;34m'uuid'\u001b[0m\u001b[0;34m,\u001b[0m\u001b[0;34m'monthYear'\u001b[0m\u001b[0;34m,\u001b[0m\u001b[0;34m'eventsClass'\u001b[0m\u001b[0;34m]\u001b[0m\u001b[0;34m)\u001b[0m\u001b[0;34m.\u001b[0m\u001b[0msize\u001b[0m\u001b[0;34m(\u001b[0m\u001b[0;34m)\u001b[0m\u001b[0;34m.\u001b[0m\u001b[0mreset_index\u001b[0m\u001b[0;34m(\u001b[0m\u001b[0mname\u001b[0m\u001b[0;34m=\u001b[0m\u001b[0;34m'purchaseMonth'\u001b[0m\u001b[0;34m)\u001b[0m\u001b[0;34m\u001b[0m\u001b[0;34m\u001b[0m\u001b[0m\n\u001b[0;32m----> 2\u001b[0;31m \u001b[0mpurchaseFilter\u001b[0m \u001b[0;34m=\u001b[0m \u001b[0mpurchaseMonth\u001b[0m\u001b[0;34m.\u001b[0m\u001b[0meventsClass\u001b[0m \u001b[0;34m==\u001b[0m \u001b[0;36m2\u001b[0m \u001b[0;32mor\u001b[0m \u001b[0mpurchaseMonth\u001b[0m\u001b[0;34m.\u001b[0m\u001b[0meventsClass\u001b[0m \u001b[0;34m==\u001b[0m \u001b[0;36m3\u001b[0m\u001b[0;34m\u001b[0m\u001b[0;34m\u001b[0m\u001b[0m\n\u001b[0m\u001b[1;32m      3\u001b[0m \u001b[0mpurchaseMonth\u001b[0m \u001b[0;34m=\u001b[0m \u001b[0mpurchaseMonth\u001b[0m\u001b[0;34m[\u001b[0m\u001b[0mpurchaseFilter\u001b[0m\u001b[0;34m]\u001b[0m\u001b[0;34m\u001b[0m\u001b[0;34m\u001b[0m\u001b[0m\n\u001b[1;32m      4\u001b[0m \u001b[0mpurchaseMonth\u001b[0m\u001b[0;34m.\u001b[0m\u001b[0mhead\u001b[0m\u001b[0;34m(\u001b[0m\u001b[0;34m)\u001b[0m\u001b[0;34m\u001b[0m\u001b[0;34m\u001b[0m\u001b[0m\n",
      "\u001b[0;32m~/opt/anaconda3/lib/python3.7/site-packages/pandas/core/generic.py\u001b[0m in \u001b[0;36m__nonzero__\u001b[0;34m(self)\u001b[0m\n\u001b[1;32m   1477\u001b[0m     \u001b[0;32mdef\u001b[0m \u001b[0m__nonzero__\u001b[0m\u001b[0;34m(\u001b[0m\u001b[0mself\u001b[0m\u001b[0;34m)\u001b[0m\u001b[0;34m:\u001b[0m\u001b[0;34m\u001b[0m\u001b[0;34m\u001b[0m\u001b[0m\n\u001b[1;32m   1478\u001b[0m         raise ValueError(\n\u001b[0;32m-> 1479\u001b[0;31m             \u001b[0;34mf\"The truth value of a {type(self).__name__} is ambiguous. \"\u001b[0m\u001b[0;34m\u001b[0m\u001b[0;34m\u001b[0m\u001b[0m\n\u001b[0m\u001b[1;32m   1480\u001b[0m             \u001b[0;34m\"Use a.empty, a.bool(), a.item(), a.any() or a.all().\"\u001b[0m\u001b[0;34m\u001b[0m\u001b[0;34m\u001b[0m\u001b[0m\n\u001b[1;32m   1481\u001b[0m         )\n",
      "\u001b[0;31mValueError\u001b[0m: The truth value of a Series is ambiguous. Use a.empty, a.bool(), a.item(), a.any() or a.all()."
     ]
    }
   ],
   "source": [
    "purchaseMonth = df.groupby(['uuid','monthYear','eventsClass']).size().reset_index(name='purchaseMonth')\n",
    "purchaseFilter = purchaseMonth.eventsClass == 2 \n",
    "purchaseMonth = purchaseMonth[purchaseFilter]\n",
    "purchaseMonth.head()"
   ]
  },
  {
   "cell_type": "code",
   "execution_count": 69,
   "metadata": {},
   "outputs": [],
   "source": [
    "indexLastDate = df.groupby('uuid', as_index=False).nth(-1).index\n",
    "df['churn'] = ['last' if x in indexLastDate else 0 for x in df.index]"
   ]
  },
  {
   "cell_type": "code",
   "execution_count": 70,
   "metadata": {},
   "outputs": [],
   "source": [
    "from datetime import date\n",
    "\n",
    "dayCalcChurn = pd.to_datetime(date(2021,1,1)) #first day of 2021 - to calculate probability of churn\n",
    "\n",
    "daysLastEvent = []\n",
    "for i in range(0,len(df)):\n",
    "    diffDaysLast = abs(dayCalcChurn - df.date[i]).days\n",
    "    daysLastEvent.append(diffDaysLast)\n",
    "\n",
    "df['days_last_event'] = daysLastEvent\n"
   ]
  },
  {
   "cell_type": "code",
   "execution_count": 71,
   "metadata": {},
   "outputs": [],
   "source": [
    "cutOffDate = 90\n",
    "cond1 = df.churn == 'last'\n",
    "cond2 = df.days_last_event > cutOffDate\n",
    "df.loc[cond1 & cond2,'churn'] = 1\n"
   ]
  },
  {
   "cell_type": "code",
   "execution_count": 72,
   "metadata": {},
   "outputs": [
    {
     "data": {
      "text/plain": [
       "0       103069\n",
       "last       719\n",
       "1          315\n",
       "Name: churn, dtype: int64"
      ]
     },
     "execution_count": 72,
     "metadata": {},
     "output_type": "execute_result"
    }
   ],
   "source": [
    "df.churn.value_counts()"
   ]
  },
  {
   "cell_type": "code",
   "execution_count": 73,
   "metadata": {},
   "outputs": [
    {
     "data": {
      "image/png": "[encoded data removed]",
      "text/plain": [
       "<Figure size 1440x288 with 1 Axes>"
      ]
     },
     "metadata": {},
     "output_type": "display_data"
    }
   ],
   "source": [
    "plt.figure(figsize=(20,4))\n",
    "ax = sns.boxplot(data=df,x=\"days_last_event\",palette=\"flare\")\n",
    "sns.set(style=\"whitegrid\")\n",
    "plt.xlabel('Days Since Last Event')\n",
    "plt.ylabel('Count')\n",
    "plt.title('Days Since Last Event')\n",
    "plt.show()"
   ]
  },
  {
   "cell_type": "markdown",
   "metadata": {},
   "source": [
    "## Churn Prediction"
   ]
  },
  {
   "cell_type": "code",
   "execution_count": 74,
   "metadata": {},
   "outputs": [
    {
     "data": {
      "text/plain": [
       "Index(['uuid', 'date', 'event', 'monthYear', 'month', 'interval',\n",
       "       'eventsClass', 'eventNumber', 'numEventsMonth', 'churn',\n",
       "       'days_last_event'],\n",
       "      dtype='object')"
      ]
     },
     "execution_count": 74,
     "metadata": {},
     "output_type": "execute_result"
    }
   ],
   "source": [
    "df.columns"
   ]
  },
  {
   "cell_type": "code",
   "execution_count": 75,
   "metadata": {},
   "outputs": [
    {
     "name": "stdout",
     "output_type": "stream",
     "text": [
      "Shape of Train + Valid dataset: (103384, 6)\n"
     ]
    }
   ],
   "source": [
    "trainValid = df.loc[df.churn != 'last']\n",
    "trainValid = trainValid[['month','interval','eventsClass','eventNumber',\n",
    "                         'numEventsMonth','churn']]\n",
    "print(\"Shape of Train + Valid dataset:\",trainValid.shape)"
   ]
  },
  {
   "cell_type": "code",
   "execution_count": 76,
   "metadata": {},
   "outputs": [
    {
     "name": "stdout",
     "output_type": "stream",
     "text": [
      "Shape of X Train dataset:  (72368, 5)\n",
      "Shape of y Train dataset:  (72368,)\n",
      "Shape of X Valid dataset:  (31016, 5)\n",
      "Shape of y Valid dataset:  (31016,)\n"
     ]
    }
   ],
   "source": [
    "from sklearn.model_selection import train_test_split\n",
    "X_train, X_valid, y_train, y_valid = train_test_split(trainValid.drop(columns=['churn']),trainValid['churn'], test_size=0.3,random_state=42)\n",
    "print(\"Shape of X Train dataset: \",X_train.shape)\n",
    "print(\"Shape of y Train dataset: \",y_train.shape)\n",
    "print(\"Shape of X Valid dataset: \",X_valid.shape)\n",
    "print(\"Shape of y Valid dataset: \",y_valid.shape)"
   ]
  },
  {
   "cell_type": "code",
   "execution_count": 77,
   "metadata": {},
   "outputs": [
    {
     "name": "stdout",
     "output_type": "stream",
     "text": [
      "Shape of Test dataset: (719, 5)\n"
     ]
    }
   ],
   "source": [
    "test = df.loc[df.churn == 'last']\n",
    "X_test = test[['month','interval','eventsClass','eventNumber','numEventsMonth']]\n",
    "print(\"Shape of Test dataset:\",X_test.shape)"
   ]
  },
  {
   "cell_type": "code",
   "execution_count": 78,
   "metadata": {},
   "outputs": [],
   "source": [
    "from sklearn.neighbors import KNeighborsClassifier\n",
    "from sklearn.tree import DecisionTreeClassifier\n",
    "from sklearn.ensemble import RandomForestClassifier, AdaBoostClassifier\n",
    "from sklearn.naive_bayes import GaussianNB"
   ]
  },
  {
   "cell_type": "code",
   "execution_count": 79,
   "metadata": {},
   "outputs": [],
   "source": [
    "names = [\"Nearest_Neighbors\",\"Decision_Tree\", \"Random_Forest\",\"AdaBoost\",\"Naive_Bayes\"]\n",
    "\n",
    "classifiers = [\n",
    "    KNeighborsClassifier(3),\n",
    "    DecisionTreeClassifier(max_depth=5),\n",
    "    RandomForestClassifier(max_depth=5, n_estimators=100),\n",
    "    AdaBoostClassifier(n_estimators=100),\n",
    "    GaussianNB()]"
   ]
  },
  {
   "cell_type": "code",
   "execution_count": 80,
   "metadata": {},
   "outputs": [
    {
     "data": {
      "text/html": [
       "<div>\n",
       "<style scoped>\n",
       "    .dataframe tbody tr th:only-of-type {\n",
       "        vertical-align: middle;\n",
       "    }\n",
       "\n",
       "    .dataframe tbody tr th {\n",
       "        vertical-align: top;\n",
       "    }\n",
       "\n",
       "    .dataframe thead th {\n",
       "        text-align: right;\n",
       "    }\n",
       "</style>\n",
       "<table border=\"1\" class=\"dataframe\">\n",
       "  <thead>\n",
       "    <tr style=\"text-align: right;\">\n",
       "      <th></th>\n",
       "      <th>name</th>\n",
       "      <th>score</th>\n",
       "    </tr>\n",
       "  </thead>\n",
       "  <tbody>\n",
       "    <tr>\n",
       "      <th>2</th>\n",
       "      <td>Random_Forest</td>\n",
       "      <td>0.997098</td>\n",
       "    </tr>\n",
       "    <tr>\n",
       "      <th>0</th>\n",
       "      <td>Nearest_Neighbors</td>\n",
       "      <td>0.996840</td>\n",
       "    </tr>\n",
       "    <tr>\n",
       "      <th>1</th>\n",
       "      <td>Decision_Tree</td>\n",
       "      <td>0.996744</td>\n",
       "    </tr>\n",
       "    <tr>\n",
       "      <th>3</th>\n",
       "      <td>AdaBoost</td>\n",
       "      <td>0.996453</td>\n",
       "    </tr>\n",
       "    <tr>\n",
       "      <th>4</th>\n",
       "      <td>Naive_Bayes</td>\n",
       "      <td>0.971402</td>\n",
       "    </tr>\n",
       "  </tbody>\n",
       "</table>\n",
       "</div>"
      ],
      "text/plain": [
       "                name     score\n",
       "2      Random_Forest  0.997098\n",
       "0  Nearest_Neighbors  0.996840\n",
       "1      Decision_Tree  0.996744\n",
       "3           AdaBoost  0.996453\n",
       "4        Naive_Bayes  0.971402"
      ]
     },
     "execution_count": 80,
     "metadata": {},
     "output_type": "execute_result"
    }
   ],
   "source": [
    "scores = []\n",
    "for name, clf in zip(names, classifiers):\n",
    "    clf.fit(X_train, y_train.astype('int'))\n",
    "    score = clf.score(X_valid, y_valid.astype('int'))\n",
    "    scores.append(score)\n",
    "\n",
    "models = pd.DataFrame()\n",
    "models['name'] = names\n",
    "models['score'] = scores\n",
    "models.sort_values(by='score',ascending=False)"
   ]
  },
  {
   "cell_type": "code",
   "execution_count": 81,
   "metadata": {},
   "outputs": [],
   "source": [
    "best_model = DecisionTreeClassifier(max_depth=5)"
   ]
  },
  {
   "cell_type": "code",
   "execution_count": 82,
   "metadata": {},
   "outputs": [],
   "source": [
    "best_model.fit(X_train,y_train.astype('int'))\n",
    "churnPredict = best_model.predict(X_test)"
   ]
  },
  {
   "cell_type": "code",
   "execution_count": 83,
   "metadata": {},
   "outputs": [
    {
     "data": {
      "text/plain": [
       "719"
      ]
     },
     "execution_count": 83,
     "metadata": {},
     "output_type": "execute_result"
    }
   ],
   "source": [
    "len(churnPredict)"
   ]
  },
  {
   "cell_type": "code",
   "execution_count": 84,
   "metadata": {},
   "outputs": [],
   "source": [
    "df.loc[df.churn == 'last','churn'] = churnPredict"
   ]
  },
  {
   "cell_type": "code",
   "execution_count": 85,
   "metadata": {},
   "outputs": [
    {
     "data": {
      "text/plain": [
       "0    103785\n",
       "1       318\n",
       "Name: churn, dtype: int64"
      ]
     },
     "execution_count": 85,
     "metadata": {},
     "output_type": "execute_result"
    }
   ],
   "source": [
    "df.churn.value_counts()"
   ]
  }
 ],
 "metadata": {
  "interpreter": {
   "hash": "7b34b089ce0dfc9935940e0a22050b2949fa617f7a2b73925623c261bed16aeb"
  },
  "kernelspec": {
   "display_name": "Python 3.7.6 64-bit ('base': conda)",
   "language": "python",
   "name": "python3"
  },
  "language_info": {
   "codemirror_mode": {
    "name": "ipython",
    "version": 3
   },
   "file_extension": ".py",
   "mimetype": "text/x-python",
   "name": "python",
   "nbconvert_exporter": "python",
   "pygments_lexer": "ipython3",
   "version": "3.7.6"
  },
  "orig_nbformat": 4
 },
 "nbformat": 4,
 "nbformat_minor": 2
}
