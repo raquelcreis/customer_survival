{
 "cells": [
  {
   "cell_type": "code",
   "execution_count": 1,
   "metadata": {},
   "outputs": [],
   "source": [
    "import pandas as pd\n",
    "import numpy as np\n",
    "import matplotlib.pyplot as plt\n",
    "import seaborn as sns\n",
    "import datetime"
   ]
  },
  {
   "cell_type": "code",
   "execution_count": 2,
   "metadata": {},
   "outputs": [
    {
     "data": {
      "text/html": [
       "<div>\n",
       "<style scoped>\n",
       "    .dataframe tbody tr th:only-of-type {\n",
       "        vertical-align: middle;\n",
       "    }\n",
       "\n",
       "    .dataframe tbody tr th {\n",
       "        vertical-align: top;\n",
       "    }\n",
       "\n",
       "    .dataframe thead th {\n",
       "        text-align: right;\n",
       "    }\n",
       "</style>\n",
       "<table border=\"1\" class=\"dataframe\">\n",
       "  <thead>\n",
       "    <tr style=\"text-align: right;\">\n",
       "      <th></th>\n",
       "      <th>uuid</th>\n",
       "      <th>date</th>\n",
       "      <th>event</th>\n",
       "    </tr>\n",
       "  </thead>\n",
       "  <tbody>\n",
       "    <tr>\n",
       "      <th>0</th>\n",
       "      <td>00038504-c286-4c49-a6ed-d7853f65f7d6</td>\n",
       "      <td>2019-02-07</td>\n",
       "      <td>small_purchase</td>\n",
       "    </tr>\n",
       "    <tr>\n",
       "      <th>1</th>\n",
       "      <td>00038504-c286-4c49-a6ed-d7853f65f7d6</td>\n",
       "      <td>2019-02-20</td>\n",
       "      <td>small_purchase</td>\n",
       "    </tr>\n",
       "    <tr>\n",
       "      <th>2</th>\n",
       "      <td>00038504-c286-4c49-a6ed-d7853f65f7d6</td>\n",
       "      <td>2019-04-12</td>\n",
       "      <td>contact</td>\n",
       "    </tr>\n",
       "    <tr>\n",
       "      <th>3</th>\n",
       "      <td>00038504-c286-4c49-a6ed-d7853f65f7d6</td>\n",
       "      <td>2019-04-19</td>\n",
       "      <td>contact</td>\n",
       "    </tr>\n",
       "    <tr>\n",
       "      <th>4</th>\n",
       "      <td>00038504-c286-4c49-a6ed-d7853f65f7d6</td>\n",
       "      <td>2019-04-30</td>\n",
       "      <td>contact</td>\n",
       "    </tr>\n",
       "    <tr>\n",
       "      <th>5</th>\n",
       "      <td>00038504-c286-4c49-a6ed-d7853f65f7d6</td>\n",
       "      <td>2019-04-30</td>\n",
       "      <td>big_purchase</td>\n",
       "    </tr>\n",
       "    <tr>\n",
       "      <th>6</th>\n",
       "      <td>00038504-c286-4c49-a6ed-d7853f65f7d6</td>\n",
       "      <td>2019-05-16</td>\n",
       "      <td>small_purchase</td>\n",
       "    </tr>\n",
       "    <tr>\n",
       "      <th>7</th>\n",
       "      <td>00038504-c286-4c49-a6ed-d7853f65f7d6</td>\n",
       "      <td>2019-06-05</td>\n",
       "      <td>contact</td>\n",
       "    </tr>\n",
       "    <tr>\n",
       "      <th>8</th>\n",
       "      <td>00038504-c286-4c49-a6ed-d7853f65f7d6</td>\n",
       "      <td>2019-06-14</td>\n",
       "      <td>contact</td>\n",
       "    </tr>\n",
       "    <tr>\n",
       "      <th>9</th>\n",
       "      <td>00038504-c286-4c49-a6ed-d7853f65f7d6</td>\n",
       "      <td>2019-07-11</td>\n",
       "      <td>contact</td>\n",
       "    </tr>\n",
       "    <tr>\n",
       "      <th>10</th>\n",
       "      <td>00038504-c286-4c49-a6ed-d7853f65f7d6</td>\n",
       "      <td>2019-07-12</td>\n",
       "      <td>contact</td>\n",
       "    </tr>\n",
       "    <tr>\n",
       "      <th>11</th>\n",
       "      <td>0012c23d-379a-43fb-a91b-6f95c5358f52</td>\n",
       "      <td>2019-09-23</td>\n",
       "      <td>contact</td>\n",
       "    </tr>\n",
       "    <tr>\n",
       "      <th>12</th>\n",
       "      <td>0012c23d-379a-43fb-a91b-6f95c5358f52</td>\n",
       "      <td>2019-10-06</td>\n",
       "      <td>contact</td>\n",
       "    </tr>\n",
       "    <tr>\n",
       "      <th>13</th>\n",
       "      <td>0012c23d-379a-43fb-a91b-6f95c5358f52</td>\n",
       "      <td>2019-11-01</td>\n",
       "      <td>big_purchase</td>\n",
       "    </tr>\n",
       "    <tr>\n",
       "      <th>14</th>\n",
       "      <td>0012c23d-379a-43fb-a91b-6f95c5358f52</td>\n",
       "      <td>2019-11-19</td>\n",
       "      <td>small_purchase</td>\n",
       "    </tr>\n",
       "    <tr>\n",
       "      <th>15</th>\n",
       "      <td>0012c23d-379a-43fb-a91b-6f95c5358f52</td>\n",
       "      <td>2019-12-18</td>\n",
       "      <td>contact</td>\n",
       "    </tr>\n",
       "    <tr>\n",
       "      <th>16</th>\n",
       "      <td>0012c23d-379a-43fb-a91b-6f95c5358f52</td>\n",
       "      <td>2019-12-22</td>\n",
       "      <td>small_purchase</td>\n",
       "    </tr>\n",
       "    <tr>\n",
       "      <th>17</th>\n",
       "      <td>0012c23d-379a-43fb-a91b-6f95c5358f52</td>\n",
       "      <td>2019-12-26</td>\n",
       "      <td>contact</td>\n",
       "    </tr>\n",
       "    <tr>\n",
       "      <th>18</th>\n",
       "      <td>0012c23d-379a-43fb-a91b-6f95c5358f52</td>\n",
       "      <td>2019-12-28</td>\n",
       "      <td>big_purchase</td>\n",
       "    </tr>\n",
       "    <tr>\n",
       "      <th>19</th>\n",
       "      <td>0012c23d-379a-43fb-a91b-6f95c5358f52</td>\n",
       "      <td>2020-01-05</td>\n",
       "      <td>contact</td>\n",
       "    </tr>\n",
       "  </tbody>\n",
       "</table>\n",
       "</div>"
      ],
      "text/plain": [
       "                                    uuid        date           event\n",
       "0   00038504-c286-4c49-a6ed-d7853f65f7d6  2019-02-07  small_purchase\n",
       "1   00038504-c286-4c49-a6ed-d7853f65f7d6  2019-02-20  small_purchase\n",
       "2   00038504-c286-4c49-a6ed-d7853f65f7d6  2019-04-12         contact\n",
       "3   00038504-c286-4c49-a6ed-d7853f65f7d6  2019-04-19         contact\n",
       "4   00038504-c286-4c49-a6ed-d7853f65f7d6  2019-04-30         contact\n",
       "5   00038504-c286-4c49-a6ed-d7853f65f7d6  2019-04-30    big_purchase\n",
       "6   00038504-c286-4c49-a6ed-d7853f65f7d6  2019-05-16  small_purchase\n",
       "7   00038504-c286-4c49-a6ed-d7853f65f7d6  2019-06-05         contact\n",
       "8   00038504-c286-4c49-a6ed-d7853f65f7d6  2019-06-14         contact\n",
       "9   00038504-c286-4c49-a6ed-d7853f65f7d6  2019-07-11         contact\n",
       "10  00038504-c286-4c49-a6ed-d7853f65f7d6  2019-07-12         contact\n",
       "11  0012c23d-379a-43fb-a91b-6f95c5358f52  2019-09-23         contact\n",
       "12  0012c23d-379a-43fb-a91b-6f95c5358f52  2019-10-06         contact\n",
       "13  0012c23d-379a-43fb-a91b-6f95c5358f52  2019-11-01    big_purchase\n",
       "14  0012c23d-379a-43fb-a91b-6f95c5358f52  2019-11-19  small_purchase\n",
       "15  0012c23d-379a-43fb-a91b-6f95c5358f52  2019-12-18         contact\n",
       "16  0012c23d-379a-43fb-a91b-6f95c5358f52  2019-12-22  small_purchase\n",
       "17  0012c23d-379a-43fb-a91b-6f95c5358f52  2019-12-26         contact\n",
       "18  0012c23d-379a-43fb-a91b-6f95c5358f52  2019-12-28    big_purchase\n",
       "19  0012c23d-379a-43fb-a91b-6f95c5358f52  2020-01-05         contact"
      ]
     },
     "execution_count": 2,
     "metadata": {},
     "output_type": "execute_result"
    }
   ],
   "source": [
    "df = pd.read_csv('churn_data.csv')\n",
    "df.head(20)"
   ]
  },
  {
   "cell_type": "code",
   "execution_count": 3,
   "metadata": {},
   "outputs": [
    {
     "name": "stdout",
     "output_type": "stream",
     "text": [
      "<class 'pandas.core.frame.DataFrame'>\n",
      "RangeIndex: 104103 entries, 0 to 104102\n",
      "Data columns (total 3 columns):\n",
      " #   Column  Non-Null Count   Dtype \n",
      "---  ------  --------------   ----- \n",
      " 0   uuid    104103 non-null  object\n",
      " 1   date    104103 non-null  object\n",
      " 2   event   104103 non-null  object\n",
      "dtypes: object(3)\n",
      "memory usage: 2.4+ MB\n"
     ]
    }
   ],
   "source": [
    "df.info()"
   ]
  },
  {
   "cell_type": "markdown",
   "metadata": {},
   "source": [
    "## EDA"
   ]
  },
  {
   "cell_type": "code",
   "execution_count": 4,
   "metadata": {},
   "outputs": [
    {
     "name": "stdout",
     "output_type": "stream",
     "text": [
      "Number of Events:  104103\n",
      "Number of Unique Users:  1034\n",
      "Type of Events:  ['small_purchase', 'contact', 'big_purchase']\n"
     ]
    }
   ],
   "source": [
    "print(\"Number of Events: \",df.shape[0])\n",
    "print(\"Number of Unique Users: \",df.uuid.nunique())\n",
    "print(\"Type of Events: \", df.event.unique()[0:3].tolist())"
   ]
  },
  {
   "cell_type": "code",
   "execution_count": 5,
   "metadata": {},
   "outputs": [],
   "source": [
    "df['date'] = pd.to_datetime(df['date'])\n",
    "df['monthYear'] = pd.to_datetime(df['date'],format='%Y-%m-%d').dt.to_period('M')\n"
   ]
  },
  {
   "cell_type": "code",
   "execution_count": 6,
   "metadata": {},
   "outputs": [
    {
     "data": {
      "image/png": "[encoded data removed]",
      "text/plain": [
       "<Figure size 1440x288 with 1 Axes>"
      ]
     },
     "metadata": {
      "needs_background": "light"
     },
     "output_type": "display_data"
    }
   ],
   "source": [
    "plt.figure(figsize=(20,4))\n",
    "ax = sns.countplot(data=df.sort_values(by='monthYear',ascending=True),x=\"monthYear\", \n",
    "                   hue=\"event\",hue_order=['big_purchase','small_purchase','contact']\n",
    "                   ,palette=\"flare\")\n",
    "sns.set(style=\"whitegrid\")\n",
    "plt.xlabel('Month-Year')\n",
    "plt.ylabel('Count')\n",
    "plt.title('Events 2019-2020')\n",
    "plt.show()"
   ]
  },
  {
   "cell_type": "markdown",
   "metadata": {},
   "source": [
    "## Interval Between Events"
   ]
  },
  {
   "cell_type": "code",
   "execution_count": 7,
   "metadata": {},
   "outputs": [],
   "source": [
    "intervalBetweenEvents = []\n",
    "intervalBetweenEvents.append(0)\n",
    "\n",
    "for row in range(1,len(df)):\n",
    "    if df.uuid[row] == df.uuid[row-1]:\n",
    "        diffDates = abs(df.date[row] - df.date[(row-1)]).days\n",
    "        intervalBetweenEvents.append(diffDates)\n",
    "    else: intervalBetweenEvents.append(0)\n",
    "\n",
    "df['interval'] = intervalBetweenEvents"
   ]
  },
  {
   "cell_type": "code",
   "execution_count": 8,
   "metadata": {},
   "outputs": [
    {
     "data": {
      "image/png": "[encoded data removed]",
      "text/plain": [
       "<Figure size 432x288 with 1 Axes>"
      ]
     },
     "metadata": {},
     "output_type": "display_data"
    }
   ],
   "source": [
    "ax = sns.violinplot(data=df, x='interval',palette='flare')\n",
    "plt.xlabel('Interval Between Events')\n",
    "plt.title('Interval Between Events')\n",
    "plt.show()"
   ]
  },
  {
   "cell_type": "markdown",
   "metadata": {},
   "source": [
    "Calculating the optimal cut off date for determine customers that churned"
   ]
  },
  {
   "cell_type": "code",
   "execution_count": 9,
   "metadata": {},
   "outputs": [],
   "source": [
    "def calcChurnFP(interval):\n",
    "    falsePositive = df[df.interval > interval]['uuid'].nunique()\n",
    "    return print(\"False Positive:\",falsePositive)\n",
    "\n",
    "def calcChurnFPPerc(interval):\n",
    "    falsePositive = df[df.interval > interval]['uuid'].nunique()\n",
    "    numberUsers = df.uuid.nunique()\n",
    "    return print(\"Percentage:\",round((falsePositive/numberUsers)*100,2))"
   ]
  },
  {
   "cell_type": "code",
   "execution_count": 10,
   "metadata": {},
   "outputs": [
    {
     "name": "stdout",
     "output_type": "stream",
     "text": [
      "Interval: 60  days\n",
      "False Positive: 40\n",
      "Percentage: 3.87\n",
      "-----------------------\n",
      "Interval: 65  days\n",
      "False Positive: 27\n",
      "Percentage: 2.61\n",
      "-----------------------\n",
      "Interval: 70  days\n",
      "False Positive: 21\n",
      "Percentage: 2.03\n",
      "-----------------------\n",
      "Interval: 75  days\n",
      "False Positive: 13\n",
      "Percentage: 1.26\n",
      "-----------------------\n",
      "Interval: 80  days\n",
      "False Positive: 8\n",
      "Percentage: 0.77\n",
      "-----------------------\n",
      "Interval: 85  days\n",
      "False Positive: 5\n",
      "Percentage: 0.48\n",
      "-----------------------\n",
      "Interval: 90  days\n",
      "False Positive: 3\n",
      "Percentage: 0.29\n",
      "-----------------------\n"
     ]
    }
   ],
   "source": [
    "#calculating FP depending of interval\n",
    "for i in range(60,95,5):\n",
    "    print(\"Interval:\",i,\" days\")\n",
    "    calcChurnFP(i)\n",
    "    calcChurnFPPerc(i)\n",
    "    print(\"-----------------------\")"
   ]
  },
  {
   "cell_type": "code",
   "execution_count": 22,
   "metadata": {},
   "outputs": [
    {
     "data": {
      "text/plain": [
       "0    0.999462\n",
       "1    0.000538\n",
       "Name: churn, dtype: float64"
      ]
     },
     "execution_count": 22,
     "metadata": {},
     "output_type": "execute_result"
    }
   ],
   "source": [
    "#creating churn feature in the dataset\n",
    "cutOffDate = 55\n",
    "df['churn'] = [1 if x > cutOffDate else 0 for x in df.interval]\n",
    "df.churn.value_counts(normalize=True)"
   ]
  },
  {
   "cell_type": "code",
   "execution_count": 12,
   "metadata": {},
   "outputs": [
    {
     "name": "stdout",
     "output_type": "stream",
     "text": [
      "Percentage of Customers that Churn:  5.42 %\n"
     ]
    }
   ],
   "source": [
    "print(\"Percentage of Customers that Churn: \", round((len(df[df.churn == 1])/df.uuid.nunique())*100,2), \"%\")"
   ]
  },
  {
   "cell_type": "markdown",
   "metadata": {},
   "source": [
    "## Feature Engineering"
   ]
  },
  {
   "cell_type": "code",
   "execution_count": 13,
   "metadata": {},
   "outputs": [
    {
     "data": {
      "text/plain": [
       "contact           58406\n",
       "small_purchase    30741\n",
       "big_purchase      14956\n",
       "Name: event, dtype: int64"
      ]
     },
     "execution_count": 13,
     "metadata": {},
     "output_type": "execute_result"
    }
   ],
   "source": [
    "# categorical column\n",
    "df.event.value_counts()"
   ]
  },
  {
   "cell_type": "code",
   "execution_count": 14,
   "metadata": {},
   "outputs": [],
   "source": [
    "#making a column for each category to sum events by categories\n",
    "df['contact'] = [1 if x == 'contact' else 0 for x in df.event]\n",
    "df['small_purchase'] = [1 if x == 'small_purchase' else 0 for x in df.event]\n",
    "df['big_purchase'] = [1 if x == 'big_purchase' else 0 for x in df.event]\n"
   ]
  },
  {
   "cell_type": "code",
   "execution_count": 15,
   "metadata": {},
   "outputs": [
    {
     "data": {
      "text/html": [
       "<div>\n",
       "<style scoped>\n",
       "    .dataframe tbody tr th:only-of-type {\n",
       "        vertical-align: middle;\n",
       "    }\n",
       "\n",
       "    .dataframe tbody tr th {\n",
       "        vertical-align: top;\n",
       "    }\n",
       "\n",
       "    .dataframe thead th {\n",
       "        text-align: right;\n",
       "    }\n",
       "</style>\n",
       "<table border=\"1\" class=\"dataframe\">\n",
       "  <thead>\n",
       "    <tr style=\"text-align: right;\">\n",
       "      <th></th>\n",
       "      <th>uuid</th>\n",
       "      <th>date</th>\n",
       "      <th>event</th>\n",
       "      <th>monthYear</th>\n",
       "      <th>interval</th>\n",
       "      <th>churn</th>\n",
       "      <th>contact</th>\n",
       "      <th>small_purchase</th>\n",
       "      <th>big_purchase</th>\n",
       "    </tr>\n",
       "  </thead>\n",
       "  <tbody>\n",
       "    <tr>\n",
       "      <th>0</th>\n",
       "      <td>00038504-c286-4c49-a6ed-d7853f65f7d6</td>\n",
       "      <td>2019-02-07</td>\n",
       "      <td>small_purchase</td>\n",
       "      <td>2019-02</td>\n",
       "      <td>0</td>\n",
       "      <td>0</td>\n",
       "      <td>0</td>\n",
       "      <td>1</td>\n",
       "      <td>0</td>\n",
       "    </tr>\n",
       "    <tr>\n",
       "      <th>1</th>\n",
       "      <td>00038504-c286-4c49-a6ed-d7853f65f7d6</td>\n",
       "      <td>2019-02-20</td>\n",
       "      <td>small_purchase</td>\n",
       "      <td>2019-02</td>\n",
       "      <td>13</td>\n",
       "      <td>0</td>\n",
       "      <td>0</td>\n",
       "      <td>1</td>\n",
       "      <td>0</td>\n",
       "    </tr>\n",
       "    <tr>\n",
       "      <th>2</th>\n",
       "      <td>00038504-c286-4c49-a6ed-d7853f65f7d6</td>\n",
       "      <td>2019-04-12</td>\n",
       "      <td>contact</td>\n",
       "      <td>2019-04</td>\n",
       "      <td>51</td>\n",
       "      <td>0</td>\n",
       "      <td>1</td>\n",
       "      <td>0</td>\n",
       "      <td>0</td>\n",
       "    </tr>\n",
       "    <tr>\n",
       "      <th>3</th>\n",
       "      <td>00038504-c286-4c49-a6ed-d7853f65f7d6</td>\n",
       "      <td>2019-04-19</td>\n",
       "      <td>contact</td>\n",
       "      <td>2019-04</td>\n",
       "      <td>7</td>\n",
       "      <td>0</td>\n",
       "      <td>1</td>\n",
       "      <td>0</td>\n",
       "      <td>0</td>\n",
       "    </tr>\n",
       "    <tr>\n",
       "      <th>4</th>\n",
       "      <td>00038504-c286-4c49-a6ed-d7853f65f7d6</td>\n",
       "      <td>2019-04-30</td>\n",
       "      <td>contact</td>\n",
       "      <td>2019-04</td>\n",
       "      <td>11</td>\n",
       "      <td>0</td>\n",
       "      <td>1</td>\n",
       "      <td>0</td>\n",
       "      <td>0</td>\n",
       "    </tr>\n",
       "  </tbody>\n",
       "</table>\n",
       "</div>"
      ],
      "text/plain": [
       "                                   uuid       date           event monthYear  \\\n",
       "0  00038504-c286-4c49-a6ed-d7853f65f7d6 2019-02-07  small_purchase   2019-02   \n",
       "1  00038504-c286-4c49-a6ed-d7853f65f7d6 2019-02-20  small_purchase   2019-02   \n",
       "2  00038504-c286-4c49-a6ed-d7853f65f7d6 2019-04-12         contact   2019-04   \n",
       "3  00038504-c286-4c49-a6ed-d7853f65f7d6 2019-04-19         contact   2019-04   \n",
       "4  00038504-c286-4c49-a6ed-d7853f65f7d6 2019-04-30         contact   2019-04   \n",
       "\n",
       "   interval  churn  contact  small_purchase  big_purchase  \n",
       "0         0      0        0               1             0  \n",
       "1        13      0        0               1             0  \n",
       "2        51      0        1               0             0  \n",
       "3         7      0        1               0             0  \n",
       "4        11      0        1               0             0  "
      ]
     },
     "execution_count": 15,
     "metadata": {},
     "output_type": "execute_result"
    }
   ],
   "source": [
    "df.head()"
   ]
  },
  {
   "cell_type": "code",
   "execution_count": 16,
   "metadata": {},
   "outputs": [],
   "source": [
    "# aggregating columns and making a new dataframe (unique user for row)\n",
    "sumTypeEvents = df.groupby(['uuid'])[['contact','small_purchase','big_purchase']].agg('sum').reset_index()\n",
    "meanInterval = df.groupby(['uuid'])['interval'].agg('mean').reset_index()\n",
    "lastDate = df.groupby(['uuid'])['date'].last().reset_index()\n",
    "\n",
    "dfUsers = pd.merge(pd.merge(sumTypeEvents,meanInterval,on='uuid'),lastDate,on='uuid')\n"
   ]
  },
  {
   "cell_type": "code",
   "execution_count": 17,
   "metadata": {},
   "outputs": [
    {
     "data": {
      "text/html": [
       "<div>\n",
       "<style scoped>\n",
       "    .dataframe tbody tr th:only-of-type {\n",
       "        vertical-align: middle;\n",
       "    }\n",
       "\n",
       "    .dataframe tbody tr th {\n",
       "        vertical-align: top;\n",
       "    }\n",
       "\n",
       "    .dataframe thead th {\n",
       "        text-align: right;\n",
       "    }\n",
       "</style>\n",
       "<table border=\"1\" class=\"dataframe\">\n",
       "  <thead>\n",
       "    <tr style=\"text-align: right;\">\n",
       "      <th></th>\n",
       "      <th>uuid</th>\n",
       "      <th>contact</th>\n",
       "      <th>small_purchase</th>\n",
       "      <th>big_purchase</th>\n",
       "      <th>interval</th>\n",
       "      <th>date</th>\n",
       "    </tr>\n",
       "  </thead>\n",
       "  <tbody>\n",
       "    <tr>\n",
       "      <th>0</th>\n",
       "      <td>00038504-c286-4c49-a6ed-d7853f65f7d6</td>\n",
       "      <td>7</td>\n",
       "      <td>3</td>\n",
       "      <td>1</td>\n",
       "      <td>14.090909</td>\n",
       "      <td>2019-07-12</td>\n",
       "    </tr>\n",
       "    <tr>\n",
       "      <th>1</th>\n",
       "      <td>0012c23d-379a-43fb-a91b-6f95c5358f52</td>\n",
       "      <td>40</td>\n",
       "      <td>11</td>\n",
       "      <td>7</td>\n",
       "      <td>7.948276</td>\n",
       "      <td>2020-12-27</td>\n",
       "    </tr>\n",
       "    <tr>\n",
       "      <th>2</th>\n",
       "      <td>0076823a-041d-4fa0-a19c-0e6e63bcef76</td>\n",
       "      <td>3</td>\n",
       "      <td>2</td>\n",
       "      <td>1</td>\n",
       "      <td>7.333333</td>\n",
       "      <td>2019-12-16</td>\n",
       "    </tr>\n",
       "    <tr>\n",
       "      <th>3</th>\n",
       "      <td>017c823f-e985-40b9-8e61-81eed835e3e2</td>\n",
       "      <td>82</td>\n",
       "      <td>41</td>\n",
       "      <td>12</td>\n",
       "      <td>1.637037</td>\n",
       "      <td>2020-12-28</td>\n",
       "    </tr>\n",
       "    <tr>\n",
       "      <th>4</th>\n",
       "      <td>0183fced-42c4-4379-894a-d8ec09c184e4</td>\n",
       "      <td>15</td>\n",
       "      <td>8</td>\n",
       "      <td>3</td>\n",
       "      <td>6.653846</td>\n",
       "      <td>2020-12-31</td>\n",
       "    </tr>\n",
       "  </tbody>\n",
       "</table>\n",
       "</div>"
      ],
      "text/plain": [
       "                                   uuid  contact  small_purchase  \\\n",
       "0  00038504-c286-4c49-a6ed-d7853f65f7d6        7               3   \n",
       "1  0012c23d-379a-43fb-a91b-6f95c5358f52       40              11   \n",
       "2  0076823a-041d-4fa0-a19c-0e6e63bcef76        3               2   \n",
       "3  017c823f-e985-40b9-8e61-81eed835e3e2       82              41   \n",
       "4  0183fced-42c4-4379-894a-d8ec09c184e4       15               8   \n",
       "\n",
       "   big_purchase   interval       date  \n",
       "0             1  14.090909 2019-07-12  \n",
       "1             7   7.948276 2020-12-27  \n",
       "2             1   7.333333 2019-12-16  \n",
       "3            12   1.637037 2020-12-28  \n",
       "4             3   6.653846 2020-12-31  "
      ]
     },
     "execution_count": 17,
     "metadata": {},
     "output_type": "execute_result"
    }
   ],
   "source": [
    "dfUsers.head()"
   ]
  },
  {
   "cell_type": "code",
   "execution_count": 19,
   "metadata": {},
   "outputs": [],
   "source": [
    "from datetime import date\n",
    "\n",
    "dayCalcChurn = pd.to_datetime(date(2021,1,1)) #first day of 2021 - to calculate probability of churn\n",
    "\n",
    "daysLastEvent = []\n",
    "for i in range(0,len(dfUsers)):\n",
    "    diffDaysLast = abs(dayCalcChurn - dfUsers.date[i]).days\n",
    "    daysLastEvent.append(diffDaysLast)\n",
    "\n",
    "dfUsers['days_last_event'] = daysLastEvent\n"
   ]
  },
  {
   "cell_type": "code",
   "execution_count": 20,
   "metadata": {},
   "outputs": [
    {
     "data": {
      "text/html": [
       "<div>\n",
       "<style scoped>\n",
       "    .dataframe tbody tr th:only-of-type {\n",
       "        vertical-align: middle;\n",
       "    }\n",
       "\n",
       "    .dataframe tbody tr th {\n",
       "        vertical-align: top;\n",
       "    }\n",
       "\n",
       "    .dataframe thead th {\n",
       "        text-align: right;\n",
       "    }\n",
       "</style>\n",
       "<table border=\"1\" class=\"dataframe\">\n",
       "  <thead>\n",
       "    <tr style=\"text-align: right;\">\n",
       "      <th></th>\n",
       "      <th>uuid</th>\n",
       "      <th>contact</th>\n",
       "      <th>small_purchase</th>\n",
       "      <th>big_purchase</th>\n",
       "      <th>interval</th>\n",
       "      <th>date</th>\n",
       "      <th>days_last_event</th>\n",
       "    </tr>\n",
       "  </thead>\n",
       "  <tbody>\n",
       "    <tr>\n",
       "      <th>0</th>\n",
       "      <td>00038504-c286-4c49-a6ed-d7853f65f7d6</td>\n",
       "      <td>7</td>\n",
       "      <td>3</td>\n",
       "      <td>1</td>\n",
       "      <td>14.090909</td>\n",
       "      <td>2019-07-12</td>\n",
       "      <td>539</td>\n",
       "    </tr>\n",
       "    <tr>\n",
       "      <th>1</th>\n",
       "      <td>0012c23d-379a-43fb-a91b-6f95c5358f52</td>\n",
       "      <td>40</td>\n",
       "      <td>11</td>\n",
       "      <td>7</td>\n",
       "      <td>7.948276</td>\n",
       "      <td>2020-12-27</td>\n",
       "      <td>5</td>\n",
       "    </tr>\n",
       "    <tr>\n",
       "      <th>2</th>\n",
       "      <td>0076823a-041d-4fa0-a19c-0e6e63bcef76</td>\n",
       "      <td>3</td>\n",
       "      <td>2</td>\n",
       "      <td>1</td>\n",
       "      <td>7.333333</td>\n",
       "      <td>2019-12-16</td>\n",
       "      <td>382</td>\n",
       "    </tr>\n",
       "    <tr>\n",
       "      <th>3</th>\n",
       "      <td>017c823f-e985-40b9-8e61-81eed835e3e2</td>\n",
       "      <td>82</td>\n",
       "      <td>41</td>\n",
       "      <td>12</td>\n",
       "      <td>1.637037</td>\n",
       "      <td>2020-12-28</td>\n",
       "      <td>4</td>\n",
       "    </tr>\n",
       "    <tr>\n",
       "      <th>4</th>\n",
       "      <td>0183fced-42c4-4379-894a-d8ec09c184e4</td>\n",
       "      <td>15</td>\n",
       "      <td>8</td>\n",
       "      <td>3</td>\n",
       "      <td>6.653846</td>\n",
       "      <td>2020-12-31</td>\n",
       "      <td>1</td>\n",
       "    </tr>\n",
       "  </tbody>\n",
       "</table>\n",
       "</div>"
      ],
      "text/plain": [
       "                                   uuid  contact  small_purchase  \\\n",
       "0  00038504-c286-4c49-a6ed-d7853f65f7d6        7               3   \n",
       "1  0012c23d-379a-43fb-a91b-6f95c5358f52       40              11   \n",
       "2  0076823a-041d-4fa0-a19c-0e6e63bcef76        3               2   \n",
       "3  017c823f-e985-40b9-8e61-81eed835e3e2       82              41   \n",
       "4  0183fced-42c4-4379-894a-d8ec09c184e4       15               8   \n",
       "\n",
       "   big_purchase   interval       date  days_last_event  \n",
       "0             1  14.090909 2019-07-12              539  \n",
       "1             7   7.948276 2020-12-27                5  \n",
       "2             1   7.333333 2019-12-16              382  \n",
       "3            12   1.637037 2020-12-28                4  \n",
       "4             3   6.653846 2020-12-31                1  "
      ]
     },
     "execution_count": 20,
     "metadata": {},
     "output_type": "execute_result"
    }
   ],
   "source": [
    "dfUsers.head()"
   ]
  },
  {
   "cell_type": "code",
   "execution_count": 24,
   "metadata": {},
   "outputs": [
    {
     "data": {
      "text/plain": [
       "0.3239845261121857"
      ]
     },
     "execution_count": 24,
     "metadata": {},
     "output_type": "execute_result"
    }
   ],
   "source": [
    "len(dfUsers[dfUsers.days_last_event > cutOffDate])/len(dfUsers)"
   ]
  }
 ],
 "metadata": {
  "interpreter": {
   "hash": "7b34b089ce0dfc9935940e0a22050b2949fa617f7a2b73925623c261bed16aeb"
  },
  "kernelspec": {
   "display_name": "Python 3.7.6 64-bit ('base': conda)",
   "language": "python",
   "name": "python3"
  },
  "language_info": {
   "codemirror_mode": {
    "name": "ipython",
    "version": 3
   },
   "file_extension": ".py",
   "mimetype": "text/x-python",
   "name": "python",
   "nbconvert_exporter": "python",
   "pygments_lexer": "ipython3",
   "version": "3.7.6"
  },
  "orig_nbformat": 4
 },
 "nbformat": 4,
 "nbformat_minor": 2
}
